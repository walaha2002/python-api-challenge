{
 "cells": [
  {
   "cell_type": "markdown",
   "metadata": {},
   "source": [
    "# WeatherPy\n",
    "----\n",
    "\n",
    "#### Note\n",
    "* Instructions have been included for each segment. You do not have to follow them exactly, but they are included to help you think through the steps."
   ]
  },
  {
   "cell_type": "code",
   "execution_count": 7,
   "metadata": {
    "scrolled": true
   },
   "outputs": [],
   "source": [
    "import requests\n",
    "import json\n",
    "import matplotlib.pyplot as plt\n",
    "import pandas as pd\n",
    "from citipy import citipy\n",
    "# import citipy\n",
    "import numpy as np\n",
    "from config import api_key\n",
    "from pprint import pprint"
   ]
  },
  {
   "cell_type": "markdown",
   "metadata": {},
   "source": [
    "## Generate Cities List"
   ]
  },
  {
   "cell_type": "code",
   "execution_count": 8,
   "metadata": {},
   "outputs": [
    {
     "data": {
      "text/html": [
       "<div>\n",
       "<style scoped>\n",
       "    .dataframe tbody tr th:only-of-type {\n",
       "        vertical-align: middle;\n",
       "    }\n",
       "\n",
       "    .dataframe tbody tr th {\n",
       "        vertical-align: top;\n",
       "    }\n",
       "\n",
       "    .dataframe thead th {\n",
       "        text-align: right;\n",
       "    }\n",
       "</style>\n",
       "<table border=\"1\" class=\"dataframe\">\n",
       "  <thead>\n",
       "    <tr style=\"text-align: right;\">\n",
       "      <th></th>\n",
       "      <th>long</th>\n",
       "      <th>lat</th>\n",
       "    </tr>\n",
       "  </thead>\n",
       "  <tbody>\n",
       "    <tr>\n",
       "      <th>0</th>\n",
       "      <td>-141.856580</td>\n",
       "      <td>1.306227</td>\n",
       "    </tr>\n",
       "    <tr>\n",
       "      <th>1</th>\n",
       "      <td>-154.109706</td>\n",
       "      <td>-42.769603</td>\n",
       "    </tr>\n",
       "    <tr>\n",
       "      <th>2</th>\n",
       "      <td>-110.241530</td>\n",
       "      <td>81.583981</td>\n",
       "    </tr>\n",
       "    <tr>\n",
       "      <th>3</th>\n",
       "      <td>94.771586</td>\n",
       "      <td>16.570085</td>\n",
       "    </tr>\n",
       "    <tr>\n",
       "      <th>4</th>\n",
       "      <td>122.975395</td>\n",
       "      <td>18.996142</td>\n",
       "    </tr>\n",
       "    <tr>\n",
       "      <th>5</th>\n",
       "      <td>162.936458</td>\n",
       "      <td>-88.150641</td>\n",
       "    </tr>\n",
       "    <tr>\n",
       "      <th>6</th>\n",
       "      <td>38.798675</td>\n",
       "      <td>-74.937631</td>\n",
       "    </tr>\n",
       "    <tr>\n",
       "      <th>7</th>\n",
       "      <td>-88.082530</td>\n",
       "      <td>83.267930</td>\n",
       "    </tr>\n",
       "  </tbody>\n",
       "</table>\n",
       "</div>"
      ],
      "text/plain": [
       "         long        lat\n",
       "0 -141.856580   1.306227\n",
       "1 -154.109706 -42.769603\n",
       "2 -110.241530  81.583981\n",
       "3   94.771586  16.570085\n",
       "4  122.975395  18.996142\n",
       "5  162.936458 -88.150641\n",
       "6   38.798675 -74.937631\n",
       "7  -88.082530  83.267930"
      ]
     },
     "execution_count": 8,
     "metadata": {},
     "output_type": "execute_result"
    }
   ],
   "source": [
    "# Get random numbers for latitude and longitude then place in a dataframe\n",
    "\n",
    "city_df=pd.DataFrame({\"long\":(np.random.uniform(-180,180,8)), \"lat\":(np.random.uniform(-90,90,8))})\n",
    "# city_df.head()\n",
    "# city_df.tail()\n",
    "city_df"
   ]
  },
  {
   "cell_type": "markdown",
   "metadata": {},
   "source": [
    "# Use Citipy to Retrieve City Names"
   ]
  },
  {
   "cell_type": "code",
   "execution_count": 9,
   "metadata": {},
   "outputs": [
    {
     "name": "stdout",
     "output_type": "stream",
     "text": [
      "['atuona', 'mataura', 'yellowknife', 'pathein', 'san vicente', 'bluff', 'port alfred', 'qaanaaq']\n",
      "['pf', 'pf', 'ca', 'mm', 'ph', 'nz', 'za', 'gl']\n"
     ]
    },
    {
     "data": {
      "text/html": [
       "<div>\n",
       "<style scoped>\n",
       "    .dataframe tbody tr th:only-of-type {\n",
       "        vertical-align: middle;\n",
       "    }\n",
       "\n",
       "    .dataframe tbody tr th {\n",
       "        vertical-align: top;\n",
       "    }\n",
       "\n",
       "    .dataframe thead th {\n",
       "        text-align: right;\n",
       "    }\n",
       "</style>\n",
       "<table border=\"1\" class=\"dataframe\">\n",
       "  <thead>\n",
       "    <tr style=\"text-align: right;\">\n",
       "      <th></th>\n",
       "      <th>long</th>\n",
       "      <th>lat</th>\n",
       "      <th>City</th>\n",
       "      <th>Country</th>\n",
       "    </tr>\n",
       "  </thead>\n",
       "  <tbody>\n",
       "    <tr>\n",
       "      <th>0</th>\n",
       "      <td>-141.856580</td>\n",
       "      <td>1.306227</td>\n",
       "      <td>atuona</td>\n",
       "      <td>pf</td>\n",
       "    </tr>\n",
       "    <tr>\n",
       "      <th>1</th>\n",
       "      <td>-154.109706</td>\n",
       "      <td>-42.769603</td>\n",
       "      <td>mataura</td>\n",
       "      <td>pf</td>\n",
       "    </tr>\n",
       "    <tr>\n",
       "      <th>2</th>\n",
       "      <td>-110.241530</td>\n",
       "      <td>81.583981</td>\n",
       "      <td>yellowknife</td>\n",
       "      <td>ca</td>\n",
       "    </tr>\n",
       "    <tr>\n",
       "      <th>3</th>\n",
       "      <td>94.771586</td>\n",
       "      <td>16.570085</td>\n",
       "      <td>pathein</td>\n",
       "      <td>mm</td>\n",
       "    </tr>\n",
       "    <tr>\n",
       "      <th>4</th>\n",
       "      <td>122.975395</td>\n",
       "      <td>18.996142</td>\n",
       "      <td>san vicente</td>\n",
       "      <td>ph</td>\n",
       "    </tr>\n",
       "    <tr>\n",
       "      <th>5</th>\n",
       "      <td>162.936458</td>\n",
       "      <td>-88.150641</td>\n",
       "      <td>bluff</td>\n",
       "      <td>nz</td>\n",
       "    </tr>\n",
       "    <tr>\n",
       "      <th>6</th>\n",
       "      <td>38.798675</td>\n",
       "      <td>-74.937631</td>\n",
       "      <td>port alfred</td>\n",
       "      <td>za</td>\n",
       "    </tr>\n",
       "    <tr>\n",
       "      <th>7</th>\n",
       "      <td>-88.082530</td>\n",
       "      <td>83.267930</td>\n",
       "      <td>qaanaaq</td>\n",
       "      <td>gl</td>\n",
       "    </tr>\n",
       "  </tbody>\n",
       "</table>\n",
       "</div>"
      ],
      "text/plain": [
       "         long        lat         City Country\n",
       "0 -141.856580   1.306227       atuona      pf\n",
       "1 -154.109706 -42.769603      mataura      pf\n",
       "2 -110.241530  81.583981  yellowknife      ca\n",
       "3   94.771586  16.570085      pathein      mm\n",
       "4  122.975395  18.996142  san vicente      ph\n",
       "5  162.936458 -88.150641        bluff      nz\n",
       "6   38.798675 -74.937631  port alfred      za\n",
       "7  -88.082530  83.267930      qaanaaq      gl"
      ]
     },
     "execution_count": 9,
     "metadata": {},
     "output_type": "execute_result"
    }
   ],
   "source": [
    "# Create lists to store city and country names\n",
    "# Source: https://github.com/wingchen/citipy\n",
    "citi=[]\n",
    "country=[]\n",
    "\n",
    "for index, row in city_df.iterrows():\n",
    "    latitude=row['lat']\n",
    "    longitude=row['long']\n",
    "    city=citipy.nearest_city(latitude,longitude)\n",
    "    cityname=city.city_name\n",
    "    citi.append(cityname)\n",
    "    cntryname=city.country_code\n",
    "    country.append(cntryname)\n",
    "print(citi)\n",
    "print(country)\n",
    "\n",
    "# Adds new lists to dataframe\n",
    "city_df['City']=citi\n",
    "city_df['Country']=country\n",
    "city_df"
   ]
  },
  {
   "cell_type": "code",
   "execution_count": 23,
   "metadata": {},
   "outputs": [
    {
     "name": "stdout",
     "output_type": "stream",
     "text": [
      "The city ID is: 4020109\n",
      "The longitude information received is: -139.03\n",
      "The latitude information received is: -9.8\n",
      "The longitude information received is: -139.03\n",
      "The temperature is: 78.15\n",
      "The humidity is: 74\n",
      "The cloudiness is: 18\n",
      "The wind speed is: 15.57\n",
      "The high is: 78.15\n",
      "                          \n",
      "The city can't be found\n",
      "                          \n",
      "The city ID is: 6185377\n",
      "The longitude information received is: -114.35\n",
      "The latitude information received is: 62.46\n",
      "The longitude information received is: -114.35\n",
      "The temperature is: 30.34\n",
      "The humidity is: 92\n",
      "The cloudiness is: 90\n",
      "The wind speed is: 18.34\n",
      "The high is: 30.99\n",
      "                          \n",
      "The city ID is: 1328421\n",
      "The longitude information received is: 94.73\n",
      "The latitude information received is: 16.78\n",
      "The longitude information received is: 94.73\n",
      "The temperature is: 76.44\n",
      "The humidity is: 94\n",
      "The cloudiness is: 13\n",
      "The wind speed is: 4.83\n",
      "The high is: 76.44\n",
      "                          \n",
      "The city ID is: 1687409\n",
      "The longitude information received is: 120.65\n",
      "The latitude information received is: 15.3\n",
      "The longitude information received is: 120.65\n",
      "The temperature is: 77\n",
      "The humidity is: 88\n",
      "The cloudiness is: 75\n",
      "The wind speed is: 4.7\n",
      "The high is: 77\n",
      "                          \n",
      "The city ID is: 2206939\n",
      "The longitude information received is: 168.33\n",
      "The latitude information received is: -46.6\n",
      "The longitude information received is: 168.33\n",
      "The temperature is: 45.18\n",
      "The humidity is: 76\n",
      "The cloudiness is: 21\n",
      "The wind speed is: 5.41\n",
      "The high is: 45.18\n",
      "                          \n",
      "The city ID is: 964432\n",
      "The longitude information received is: 26.89\n",
      "The latitude information received is: -33.59\n",
      "The longitude information received is: 26.89\n",
      "The temperature is: 64.49\n",
      "The humidity is: 71\n",
      "The cloudiness is: 19\n",
      "The wind speed is: 19.86\n",
      "The high is: 64.49\n",
      "                          \n",
      "The city ID is: 3831208\n",
      "The longitude information received is: -69.36\n",
      "The latitude information received is: 77.48\n",
      "The longitude information received is: -69.36\n",
      "The temperature is: 34.36\n",
      "The humidity is: 88\n",
      "The cloudiness is: 100\n",
      "The wind speed is: 3.96\n",
      "The high is: 34.36\n",
      "                          \n"
     ]
    }
   ],
   "source": [
    "# https://api.openweathermap.org/data/2.5/weather?q=London,uk&appid=api_key&units=imperial\n",
    "# https://api.openweathermap.org/data/2.5/weather?&units=imperial&appid=api_key&q=London,uk\n",
    "\n",
    "url = \"http://api.openweathermap.org/data/2.5/weather?\"\n",
    "units = 'imperial'\n",
    "query_url=f\"{url}&units={units}&appid={api_key}&q=\"\n",
    "# query_url = f\"{url}appid={api_key}&units={units}&q=\"\n",
    "\n",
    "cityid = []\n",
    "long = []\n",
    "lat = []\n",
    "temp = []\n",
    "humidity = []\n",
    "clouds = []\n",
    "wind = []\n",
    "maxtemp = []\n",
    "date = []\n",
    "\n",
    "\n",
    "# # Build query URL\n",
    "\n",
    "for index, row in city_df.iterrows():\n",
    "    cityposition=row['City']\n",
    "    cntryposition= row['Country']\n",
    "    response=requests.get(query_url + cityposition +\",\"+ cntryposition).json()\n",
    "    # pprint(response)\n",
    "    \n",
    "    try:\n",
    "        cityid.append(response['id'])\n",
    "        long.append(response['coord']['lon'])\n",
    "        lat.append(response['coord']['lat'])\n",
    "        temp.append(response['main']['temp'])\n",
    "        humidity.append(response['main']['humidity'])\n",
    "        clouds.append(response['clouds']['all'])\n",
    "        wind.append(response['wind']['speed'])\n",
    "        maxtemp.append(response['main']['temp_max'])\n",
    "        date.append(response['dt'])\n",
    "        print(f'The city ID is: {response[\"id\"]}')\n",
    "        print(f'The longitude information received is: {response[\"coord\"][\"lon\"]}')\n",
    "        print(f'The latitude information received is: {response[\"coord\"][\"lat\"]}')\n",
    "        print(f'The longitude information received is: {response[\"coord\"][\"lon\"]}')\n",
    "        print(f'The temperature is: {response[\"main\"][\"temp\"]}')\n",
    "        print(f'The humidity is: {response[\"main\"][\"humidity\"]}')\n",
    "        print(f'The cloudiness is: {response[\"clouds\"][\"all\"]}')\n",
    "        print(f'The wind speed is: {response[\"wind\"][\"speed\"]}')\n",
    "        print(f'The high is: {response[\"main\"][\"temp_max\"]}')\n",
    "        print(f\"                          \")\n",
    "    \n",
    "    except:\n",
    "\n",
    "        print(f\"The city can't be found\")\n",
    "        print(f\"                          \")\n",
    "        pass\n",
    "    \n",
    "# print(f\"The ID of the city is: {cityid}\")\n",
    "# print(f\"The latitude information received is: {lat}\")\n",
    "# print(f\"The longitude information received is: {long}\")\n",
    "# print(f\"The temperature information received is: {temp}\")\n",
    "# print(f\"The humidity information received is: {humidity}\")\n",
    "# print(f\"The cloud information received is: {clouds}\")\n",
    "# print(f\"The wind speed information received is: {wind}\")\n",
    "# print(f\"The maximum temperature received is: {maxtemp}\")\n",
    "# print(f\"The date received is: {date}\")\n",
    "# print(f\"                                                \")\n",
    "    \n",
    "    \n",
    "# url = \"http://api.openweathermap.org/data/2.5/weather?\"\n",
    "# units = \"imperial\"\n",
    "\n",
    "# # # Build partial query URL\n",
    "# query_url = f\"{url}appid={api_key}&units={units}&q=\"\n",
    "\n",
    "#     country=city.country_code\n",
    "#     country.append(country)\n",
    "# print(citi)\n",
    "# print(country)\n",
    "# cities = [\"Paris\", \"London\", \"Oslo\", \"Beijing\"]\n",
    "\n",
    "# url=\"http://api.openweathermap.org/data/2.5/weather?lat={87.6298}&lon={41.8781}&appid={api_key}\"\n",
    "# # url=\"http://api.openweathermap.org/data/2.5/weather?q={Chicago}&appid={api_key}?\"\n",
    "# citydata = requests.get(url).json()\n",
    "# print(json.dumps(citydata, indent=4, sort_keys=True))\n",
    "\n",
    "# Print the json\n",
    "# print(geo_data)\n",
    "# response=requests.get(f\"{query_url}'lat='{87.6298}'&lon='{41.8781}\").json()\n",
    "# print(response)\n",
    "\n",
    "# # set up lists to hold reponse info\n",
    "# citi = []\n",
    "# cityid = []\n",
    "# long = []\n",
    "# lat = []\n",
    "# temp = []\n",
    "# humidity = []\n",
    "# clouds = []\n",
    "# wind = []\n",
    "# country = []\n",
    "\n",
    "# for index, row in city_df.iterrows():\n",
    "#     latitude=row['lat']\n",
    "#     longitude=row['long']\n",
    "#     response=requests.get(f\"{query_url}'lat='{latitude}'&lon='{longitude}\").json()\n",
    "#     print(response)\n",
    "#     citi.append(response['name'])\n",
    "#     cityid.append(response['sys']['id'])\n",
    "#     long.append(response['coord']['lon'])\n",
    "#     lat.append(response['coord']['lat'])\n",
    "#     temp.append(response['main']['temp'])\n",
    "#     humidity.append(response['main']['humidity'])\n",
    "#     clouds.append(response['clouds']['all'])\n",
    "#     wind.append(response['wind']['speed'])\n",
    "#     country.append(response['sys']['country'])\n",
    "\n",
    "# Loop through the list of cities and perform a request for data on each\n",
    "# api.openweathermap.org/data/2.5/find?q=London&units=imperial\n",
    "# for city in cities:\n",
    "    \n",
    "#     response = requests.get(query_url + city).json()\n",
    "#     citi.append(response['name'])\n",
    "#     cityid.append(response['sys']['id'])\n",
    "#     long.append(response['coord']['lon'])\n",
    "#     lat.append(response['coord']['lat'])\n",
    "#     temp.append(response['main']['temp'])\n",
    "#     humidity.append(response['main']['humidity'])\n",
    "#     clouds.append(response['clouds']['all'])\n",
    "#     wind.append(response['wind']['speed'])\n",
    "#     country.append(response['sys']['country'])\n",
    "    \n",
    "# print(f\"The ID of the city is: {cityid}\")\n",
    "# print(f\"The city information received is: {citi}\")\n",
    "# print(f\"The country information received is: {country}\")\n",
    "# print(f\"The latitude information received is: {lat}\")\n",
    "# print(f\"The longitude information received is: {long}\")\n",
    "# print(f\"The temperature information received is: {temp}\")\n",
    "# print(f\"The humidity information received is: {humidity}\")\n",
    "# print(f\"The cloud information received is: {clouds}\")\n",
    "# print(f\"The wind speed information received is: {wind}\")\n",
    "\n",
    "\n",
    "\n",
    "# # Save config information\n",
    "# url = \"http://api.openweathermap.org/data/2.5/weather?\"\n",
    "# city = \"Chicago\"\n",
    "\n",
    "# # Build query URL\n",
    "# query_url = url + \"appid=\" + api_key + \"&q=\" + city\n",
    "\n",
    "# # Get weather data\n",
    "# weather_response = requests.get(query_url)\n",
    "# weather_json = weather_response.json()\n",
    "\n",
    "# # Get the temperature from the response\n",
    "# print(f\"The weather API responded with: {weather_json}.\")\n",
    "# pprint(weather_json)"
   ]
  },
  {
   "cell_type": "markdown",
   "metadata": {},
   "source": [
    "### Perform API Calls\n",
    "* Perform a weather check on each city using a series of successive API calls.\n",
    "* Include a print log of each city as it'sbeing processed (with the city number and city name).\n"
   ]
  },
  {
   "cell_type": "code",
   "execution_count": null,
   "metadata": {
    "scrolled": true
   },
   "outputs": [],
   "source": []
  },
  {
   "cell_type": "markdown",
   "metadata": {},
   "source": [
    "### Convert Raw Data to DataFrame\n",
    "* Export the city data into a .csv.\n",
    "* Display the DataFrame"
   ]
  },
  {
   "cell_type": "code",
   "execution_count": null,
   "metadata": {},
   "outputs": [],
   "source": []
  },
  {
   "cell_type": "code",
   "execution_count": null,
   "metadata": {},
   "outputs": [],
   "source": []
  },
  {
   "cell_type": "markdown",
   "metadata": {},
   "source": [
    "## Inspect the data and remove the cities where the humidity > 100%.\n",
    "----\n",
    "Skip this step if there are no cities that have humidity > 100%. "
   ]
  },
  {
   "cell_type": "code",
   "execution_count": null,
   "metadata": {},
   "outputs": [],
   "source": []
  },
  {
   "cell_type": "code",
   "execution_count": 5,
   "metadata": {},
   "outputs": [],
   "source": [
    "#  Get the indices of cities that have humidity over 100%.\n"
   ]
  },
  {
   "cell_type": "code",
   "execution_count": 6,
   "metadata": {},
   "outputs": [],
   "source": [
    "# Make a new DataFrame equal to the city data to drop all humidity outliers by index.\n",
    "# Passing \"inplace=False\" will make a copy of the city_data DataFrame, which we call \"clean_city_data\".\n"
   ]
  },
  {
   "cell_type": "code",
   "execution_count": null,
   "metadata": {},
   "outputs": [],
   "source": [
    "\n"
   ]
  },
  {
   "cell_type": "markdown",
   "metadata": {},
   "source": [
    "## Plotting the Data\n",
    "* Use proper labeling of the plots using plot titles (including date of analysis) and axes labels.\n",
    "* Save the plotted figures as .pngs."
   ]
  },
  {
   "cell_type": "markdown",
   "metadata": {},
   "source": [
    "## Latitude vs. Temperature Plot"
   ]
  },
  {
   "cell_type": "code",
   "execution_count": null,
   "metadata": {
    "scrolled": true
   },
   "outputs": [],
   "source": []
  },
  {
   "cell_type": "markdown",
   "metadata": {},
   "source": [
    "## Latitude vs. Humidity Plot"
   ]
  },
  {
   "cell_type": "code",
   "execution_count": null,
   "metadata": {},
   "outputs": [],
   "source": []
  },
  {
   "cell_type": "markdown",
   "metadata": {},
   "source": [
    "## Latitude vs. Cloudiness Plot"
   ]
  },
  {
   "cell_type": "code",
   "execution_count": null,
   "metadata": {},
   "outputs": [],
   "source": []
  },
  {
   "cell_type": "markdown",
   "metadata": {},
   "source": [
    "## Latitude vs. Wind Speed Plot"
   ]
  },
  {
   "cell_type": "code",
   "execution_count": null,
   "metadata": {},
   "outputs": [],
   "source": []
  },
  {
   "cell_type": "markdown",
   "metadata": {},
   "source": [
    "## Linear Regression"
   ]
  },
  {
   "cell_type": "code",
   "execution_count": null,
   "metadata": {},
   "outputs": [],
   "source": []
  },
  {
   "cell_type": "markdown",
   "metadata": {},
   "source": [
    "####  Northern Hemisphere - Max Temp vs. Latitude Linear Regression"
   ]
  },
  {
   "cell_type": "code",
   "execution_count": null,
   "metadata": {},
   "outputs": [],
   "source": []
  },
  {
   "cell_type": "markdown",
   "metadata": {},
   "source": [
    "####  Southern Hemisphere - Max Temp vs. Latitude Linear Regression"
   ]
  },
  {
   "cell_type": "code",
   "execution_count": null,
   "metadata": {},
   "outputs": [],
   "source": []
  },
  {
   "cell_type": "markdown",
   "metadata": {},
   "source": [
    "####  Northern Hemisphere - Humidity (%) vs. Latitude Linear Regression"
   ]
  },
  {
   "cell_type": "code",
   "execution_count": null,
   "metadata": {},
   "outputs": [],
   "source": []
  },
  {
   "cell_type": "markdown",
   "metadata": {},
   "source": [
    "####  Southern Hemisphere - Humidity (%) vs. Latitude Linear Regression"
   ]
  },
  {
   "cell_type": "code",
   "execution_count": null,
   "metadata": {},
   "outputs": [],
   "source": []
  },
  {
   "cell_type": "markdown",
   "metadata": {},
   "source": [
    "####  Northern Hemisphere - Cloudiness (%) vs. Latitude Linear Regression"
   ]
  },
  {
   "cell_type": "code",
   "execution_count": null,
   "metadata": {},
   "outputs": [],
   "source": []
  },
  {
   "cell_type": "markdown",
   "metadata": {},
   "source": [
    "####  Southern Hemisphere - Cloudiness (%) vs. Latitude Linear Regression"
   ]
  },
  {
   "cell_type": "code",
   "execution_count": null,
   "metadata": {},
   "outputs": [],
   "source": []
  },
  {
   "cell_type": "markdown",
   "metadata": {},
   "source": [
    "####  Northern Hemisphere - Wind Speed (mph) vs. Latitude Linear Regression"
   ]
  },
  {
   "cell_type": "code",
   "execution_count": null,
   "metadata": {},
   "outputs": [],
   "source": []
  },
  {
   "cell_type": "markdown",
   "metadata": {},
   "source": [
    "####  Southern Hemisphere - Wind Speed (mph) vs. Latitude Linear Regression"
   ]
  },
  {
   "cell_type": "code",
   "execution_count": null,
   "metadata": {},
   "outputs": [],
   "source": []
  },
  {
   "cell_type": "code",
   "execution_count": null,
   "metadata": {},
   "outputs": [],
   "source": []
  }
 ],
 "metadata": {
  "anaconda-cloud": {},
  "kernel_info": {
   "name": "python3"
  },
  "kernelspec": {
   "display_name": "Python 3",
   "language": "python",
   "name": "python3"
  },
  "language_info": {
   "codemirror_mode": {
    "name": "ipython",
    "version": 3
   },
   "file_extension": ".py",
   "mimetype": "text/x-python",
   "name": "python",
   "nbconvert_exporter": "python",
   "pygments_lexer": "ipython3",
   "version": "3.7.6"
  },
  "latex_envs": {
   "LaTeX_envs_menu_present": true,
   "autoclose": false,
   "autocomplete": true,
   "bibliofile": "biblio.bib",
   "cite_by": "apalike",
   "current_citInitial": 1,
   "eqLabelWithNumbers": true,
   "eqNumInitial": 1,
   "hotkeys": {
    "equation": "Ctrl-E",
    "itemize": "Ctrl-I"
   },
   "labels_anchors": false,
   "latex_user_defs": false,
   "report_style_numbering": false,
   "user_envs_cfg": false
  },
  "nteract": {
   "version": "0.12.3"
  }
 },
 "nbformat": 4,
 "nbformat_minor": 2
}
