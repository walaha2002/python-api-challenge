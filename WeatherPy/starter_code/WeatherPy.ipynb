{
 "cells": [
  {
   "cell_type": "markdown",
   "metadata": {},
   "source": [
    "# WeatherPy\n",
    "----\n",
    "\n",
    "#### Note\n",
    "* Instructions have been included for each segment. You do not have to follow them exactly, but they are included to help you think through the steps."
   ]
  },
  {
   "cell_type": "code",
   "execution_count": null,
   "metadata": {
    "scrolled": true
   },
   "outputs": [],
   "source": [
    "import requests\n",
    "import json\n",
    "import matplotlib.pyplot as plt\n",
    "import pandas as pd\n",
    "from citipy import citipy\n",
    "import numpy as np\n",
    "from config import api_key\n",
    "from pprint import pprint\n",
    "import time\n",
    "from scipy.stats import linregress"
   ]
  },
  {
   "cell_type": "markdown",
   "metadata": {},
   "source": [
    "## Generate Cities List"
   ]
  },
  {
   "cell_type": "code",
   "execution_count": null,
   "metadata": {},
   "outputs": [],
   "source": [
    "# Get random numbers for latitude and longitude then place in a dataframe\n",
    "\n",
    "city_df=pd.DataFrame({\"long\":(np.random.uniform(-180,180,1500)), \"lat\":(np.random.uniform(-90,90,1500))})\n",
    "# city_df.head()\n",
    "# city_df.tail()\n",
    "print(city_df)"
   ]
  },
  {
   "cell_type": "markdown",
   "metadata": {},
   "source": [
    "# Use Citipy to Retrieve City Names"
   ]
  },
  {
   "cell_type": "code",
   "execution_count": null,
   "metadata": {},
   "outputs": [],
   "source": [
    "# Create lists to store city and country names\n",
    "# Source: https://github.com/wingchen/citipy\n",
    "citi=[]\n",
    "country=[]\n",
    "\n",
    "for index, row in city_df.iterrows():\n",
    "    latitude=row['lat']\n",
    "    longitude=row['long']\n",
    "    city=citipy.nearest_city(latitude,longitude)\n",
    "    cityname=city.city_name\n",
    "    cntryname=city.country_code\n",
    "    if cityname not in citi:\n",
    "        citi.append(cityname)\n",
    "        country.append(cntryname)\n",
    "    else:\n",
    "        pass\n",
    "print(citi)\n",
    "print(country)\n",
    "\n",
    "# Adds new lists to dataframe\n",
    "tudes={\"City\":citi,\"Country\":country}\n",
    "\n",
    "# Make a dataframe from the dictionary\n",
    "tudes_df=pd.DataFrame(tudes)\n",
    "tudes_df"
   ]
  },
  {
   "cell_type": "markdown",
   "metadata": {},
   "source": [
    "### Perform API Calls\n",
    "* Perform a weather check on each city using a series of successive API calls.\n",
    "* Include a print log of each city as it'sbeing processed (with the city number and city name).\n"
   ]
  },
  {
   "cell_type": "code",
   "execution_count": null,
   "metadata": {
    "scrolled": true
   },
   "outputs": [],
   "source": [
    "# https://api.openweathermap.org/data/2.5/weather?q=London,uk&appid=api_key&units=imperial\n",
    "# https://api.openweathermap.org/data/2.5/weather?&units=imperial&appid=api_key&q=London,uk\n",
    "\n",
    "url = \"http://api.openweathermap.org/data/2.5/weather?\"\n",
    "units = 'imperial'\n",
    "query_url=f\"{url}&units={units}&appid={api_key}&q=\"\n",
    "# query_url = f\"{url}appid={api_key}&units={units}&q=\"\n",
    "\n",
    "cityid = []\n",
    "long = []\n",
    "lat = []\n",
    "temp = []\n",
    "humidity = []\n",
    "clouds = []\n",
    "wind = []\n",
    "maxtemp = []\n",
    "date = []\n",
    "cityagain=[]\n",
    "countryagain=[]\n",
    "# # Build query URL\n",
    "# check if data is available before appending\n",
    "# for City in city_df:\n",
    "#     response=requests.get(query_url + cityposition +\",\"+ cntryposition).json()\n",
    "    \n",
    "#     try:\n",
    "#         if response[\"message\"]==\"city not found\":\n",
    "#             print(\"The city can't be found\")\n",
    "#     except:\n",
    "#         cityagain.append(City)\n",
    "#         countryagain.append(response['sys']['country'])\n",
    "#         cityid.append(response['id'])\n",
    "#         long.append(response['coord']['lon'])\n",
    "#         lat.append(response['coord']['lat'])\n",
    "#         temp.append(response['main']['temp'])\n",
    "#         humidity.append(response['main']['humidity'])\n",
    "#         clouds.append(response['clouds']['all'])\n",
    "#         wind.append(response['wind']['speed'])\n",
    "#         maxtemp.append(response['main']['temp_max'])\n",
    "#         date.append(response['dt'])\n",
    "#         print(f'The city name is: {city}')\n",
    "#         print(f'The city ID is: {response[\"id\"]}')\n",
    "#         print(f'The longitude information received is: {response[\"coord\"][\"lon\"]}')\n",
    "#         print(f'The latitude information received is: {response[\"coord\"][\"lat\"]}')\n",
    "#         print(f'The longitude information received is: {response[\"coord\"][\"lon\"]}')\n",
    "#         print(f'The temperature is: {response[\"main\"][\"temp\"]}')\n",
    "#         print(f'The humidity is: {response[\"main\"][\"humidity\"]}')\n",
    "#         print(f'The cloudiness is: {response[\"clouds\"][\"all\"]}')\n",
    "#         print(f'The wind speed is: {response[\"wind\"][\"speed\"]}')\n",
    "#         print(f'The high is: {response[\"main\"][\"temp_max\"]}')\n",
    "#         print(f\"                          \")\n",
    "        \n",
    "for index, row in tudes_df.iterrows():\n",
    "    cityposition=row['City']\n",
    "    cntryposition= row['Country']\n",
    "    time.sleep(1)\n",
    "    response=requests.get(query_url + cityposition +\",\"+ cntryposition).json()\n",
    "    # time.sleep(1)\n",
    "    # pprint(response)\n",
    "    \n",
    "    try:\n",
    "        if (response[\"message\"]==\"city not found\"):\n",
    "            print(f\"The city can't be found\")\n",
    "            print(f\"                          \")\n",
    "            # pass\n",
    "                  \n",
    "    except:\n",
    "        if len(cityid)<500:\n",
    "            cityagain.append(response['name'])\n",
    "            countryagain.append(response['sys']['country'])\n",
    "            cityid.append(response['id'])\n",
    "            long.append(response['coord']['lon'])\n",
    "            lat.append(response['coord']['lat'])\n",
    "            temp.append(response['main']['temp'])\n",
    "            humidity.append(response['main']['humidity'])\n",
    "            clouds.append(response['clouds']['all'])\n",
    "            wind.append(response['wind']['speed'])\n",
    "            maxtemp.append(response['main']['temp_max'])\n",
    "            date.append(response['dt'])\n",
    "            print(f'The city name is: {response[\"name\"]}')\n",
    "            print(f'The country is: {response[\"sys\"][\"country\"]}')\n",
    "            print(f'The city ID is: {response[\"id\"]}')\n",
    "            print(f'The longitude information received is: {response[\"coord\"][\"lon\"]}')\n",
    "            print(f'The latitude information received is: {response[\"coord\"][\"lat\"]}')\n",
    "            print(f'The longitude information received is: {response[\"coord\"][\"lon\"]}')\n",
    "            print(f'The temperature is: {response[\"main\"][\"temp\"]}')\n",
    "            print(f'The humidity is: {response[\"main\"][\"humidity\"]}')\n",
    "            print(f'The cloudiness is: {response[\"clouds\"][\"all\"]}')\n",
    "            print(f'The wind speed is: {response[\"wind\"][\"speed\"]}')\n",
    "            print(f'The high is: {response[\"main\"][\"temp_max\"]}')\n",
    "            print(f\"                          \")\n",
    "        else:\n",
    "            break\n",
    "# cityposition not in cityagain and len(cityid)<500:"
   ]
  },
  {
   "cell_type": "markdown",
   "metadata": {},
   "source": [
    "### Convert Raw Data to DataFrame\n",
    "* Export the city data into a .csv.\n",
    "* Display the DataFrame"
   ]
  },
  {
   "cell_type": "code",
   "execution_count": null,
   "metadata": {},
   "outputs": [],
   "source": [
    "# Create dictionary of lists above\n",
    "weather={\"City\":cityagain,\"Country\":countryagain,\"City ID\":cityid,\"Latitude\":lat,\"Longitude\":long,\"Temperature\":temp,\"Max Temp\":maxtemp,\"Humidity\":humidity,\"Wind\":wind,\"Clouds\":clouds,\"Date\":date}\n",
    "\n",
    "# Make a dataframe from the dictionary\n",
    "weather_df=pd.DataFrame(weather)\n",
    "\n",
    "\n",
    "# Save the updated dataframe as a csv\n",
    "weather_df.to_csv(\"../output_data/weather_file.csv\", encoding=\"utf-8\", index=False)\n",
    "weather_df"
   ]
  },
  {
   "cell_type": "markdown",
   "metadata": {},
   "source": [
    "## Inspect the data and remove the cities where the humidity > 100%.\n",
    "----\n",
    "Skip this step if there are no cities that have humidity > 100%. "
   ]
  },
  {
   "cell_type": "code",
   "execution_count": null,
   "metadata": {},
   "outputs": [],
   "source": [
    "highhumid=weather_df.loc[(weather_df['Humidity']>100)]\n",
    "highhumid"
   ]
  },
  {
   "cell_type": "code",
   "execution_count": null,
   "metadata": {},
   "outputs": [],
   "source": [
    "#  Get the indices of cities that have humidity over 100%.\n",
    "# There are no cities with humidity over 100%"
   ]
  },
  {
   "cell_type": "code",
   "execution_count": null,
   "metadata": {},
   "outputs": [],
   "source": [
    "# Make a new DataFrame equal to the city data to drop all humidity outliers by index.\n",
    "# Passing \"inplace=False\" will make a copy of the city_data DataFrame, which we call \"clean_city_data\".\n",
    "# NOT APPLICABLE"
   ]
  },
  {
   "cell_type": "markdown",
   "metadata": {},
   "source": [
    "## Plotting the Data\n",
    "* Use proper labeling of the plots using plot titles (including date of analysis) and axes labels.\n",
    "* Save the plotted figures as .pngs."
   ]
  },
  {
   "cell_type": "markdown",
   "metadata": {},
   "source": [
    "## Latitude vs. Temperature Plot"
   ]
  },
  {
   "cell_type": "code",
   "execution_count": null,
   "metadata": {
    "scrolled": true
   },
   "outputs": [],
   "source": [
    "# Creates scatter plot using previously created dataframe\n",
    "fig1=weather_df.plot.scatter(x='Latitude',y='Temperature',c='DarkBlue',title=\"Latitude vs Temperature (F)\")\n",
    "plt.savefig(\"../output_data/fig1.png\")"
   ]
  },
  {
   "cell_type": "markdown",
   "metadata": {},
   "source": [
    "## Latitude vs. Humidity Plot"
   ]
  },
  {
   "cell_type": "code",
   "execution_count": null,
   "metadata": {},
   "outputs": [],
   "source": [
    "fig2=weather_df.plot.scatter(x='Latitude',y='Humidity',c='DarkBlue',title=\"Latitude vs Humidity\")\n",
    "plt.savefig(\"../output_data/fig2.png\")"
   ]
  },
  {
   "cell_type": "markdown",
   "metadata": {},
   "source": [
    "## Latitude vs. Cloudiness Plot"
   ]
  },
  {
   "cell_type": "code",
   "execution_count": null,
   "metadata": {},
   "outputs": [],
   "source": [
    "fig3=weather_df.plot.scatter(x='Latitude',y='Clouds',c='DarkBlue',title=\"Latitude vs Clouds\")\n",
    "plt.savefig(\"../output_data/fig3.png\")"
   ]
  },
  {
   "cell_type": "markdown",
   "metadata": {},
   "source": [
    "## Latitude vs. Wind Speed Plot"
   ]
  },
  {
   "cell_type": "code",
   "execution_count": null,
   "metadata": {},
   "outputs": [],
   "source": [
    "fig4=weather_df.plot.scatter(x='Latitude',y='Wind',c='DarkBlue',title=\"Latitude vs Wind\")\n",
    "plt.savefig(\"../output_data/fig4.png\")"
   ]
  },
  {
   "cell_type": "markdown",
   "metadata": {},
   "source": [
    "## Linear Regression"
   ]
  },
  {
   "cell_type": "code",
   "execution_count": null,
   "metadata": {},
   "outputs": [],
   "source": [
    "# Plots linear regression equation and plot along with scatter plot\n",
    "# Divide into hemispheres\n",
    "north=weather_df.loc[(weather_df[\"Latitude\"]>0)]\n",
    "south=weather_df.loc[(weather_df[\"Latitude\"]<0)]"
   ]
  },
  {
   "cell_type": "markdown",
   "metadata": {},
   "source": [
    "####  Northern Hemisphere - Max Temp vs. Latitude Linear Regression"
   ]
  },
  {
   "cell_type": "code",
   "execution_count": 30,
   "metadata": {},
   "outputs": [
    {
     "data": {
      "image/png": "[encoded data removed]",
      "text/plain": [
       "<Figure size 432x288 with 1 Axes>"
      ]
     },
     "metadata": {
      "needs_background": "light"
     },
     "output_type": "display_data"
    }
   ],
   "source": [
    "x_values=north['Max Temp']\n",
    "y_values=north['Latitude']\n",
    "(slope,intercept,rvalue,pvalue,stderr)=linregress(x_values,y_values)\n",
    "regress_values=x_values*slope+intercept\n",
    "line_eq=\"y= \" +str(round(slope,2))+\"x + \"+str(round(intercept,2))\n",
    "plt.scatter(x_values,y_values)\n",
    "plt.plot(x_values,regress_values,\"r-\")\n",
    "plt.annotate(line_eq,(6,10),fontsize=15,color='red')\n",
    "plt.xlabel('Maximum Temperature')\n",
    "plt.ylabel('Latitude')\n",
    "plt.title('Linear Regression: Max Temp vs Latitude for the Northern Hemisphere')\n",
    "plt.savefig(\"../output_data/fig5.png\")\n",
    "plt.show()"
   ]
  },
  {
   "cell_type": "markdown",
   "metadata": {},
   "source": [
    "####  Southern Hemisphere - Max Temp vs. Latitude Linear Regression"
   ]
  },
  {
   "cell_type": "code",
   "execution_count": 31,
   "metadata": {},
   "outputs": [
    {
     "data": {
      "image/png": "[encoded data removed]",
      "text/plain": [
       "<Figure size 432x288 with 1 Axes>"
      ]
     },
     "metadata": {
      "needs_background": "light"
     },
     "output_type": "display_data"
    }
   ],
   "source": [
    "x_values=south['Max Temp']\n",
    "y_values=south['Latitude']\n",
    "(slope,intercept,rvalue,pvalue,stderr)=linregress(x_values,y_values)\n",
    "regress_values=x_values*slope+intercept\n",
    "line_eq=\"y= \" +str(round(slope,2))+\"x + \"+str(round(intercept,2))\n",
    "plt.scatter(x_values,y_values)\n",
    "plt.plot(x_values,regress_values,\"r-\")\n",
    "plt.annotate(line_eq,(6,10),fontsize=15,color='red')\n",
    "plt.xlabel('Maximum Temperature')\n",
    "plt.ylabel('Latitude')\n",
    "plt.title('Linear Regression: Max Temp vs Latitude for the Southern Hemisphere')\n",
    "plt.savefig(\"../output_data/fig6.png\")\n",
    "plt.show()"
   ]
  },
  {
   "cell_type": "markdown",
   "metadata": {},
   "source": [
    "####  Northern Hemisphere - Humidity (%) vs. Latitude Linear Regression"
   ]
  },
  {
   "cell_type": "code",
   "execution_count": 32,
   "metadata": {},
   "outputs": [
    {
     "data": {
      "image/png": "[encoded data removed]",
      "text/plain": [
       "<Figure size 432x288 with 1 Axes>"
      ]
     },
     "metadata": {
      "needs_background": "light"
     },
     "output_type": "display_data"
    }
   ],
   "source": [
    "x_values=north['Humidity']\n",
    "y_values=north['Latitude']\n",
    "(slope,intercept,rvalue,pvalue,stderr)=linregress(x_values,y_values)\n",
    "regress_values=x_values*slope+intercept\n",
    "line_eq=\"y= \" +str(round(slope,2))+\"x + \"+str(round(intercept,2))\n",
    "plt.scatter(x_values,y_values)\n",
    "plt.plot(x_values,regress_values,\"r-\")\n",
    "plt.annotate(line_eq,(6,10),fontsize=15,color='red')\n",
    "plt.xlabel('Humidity')\n",
    "plt.ylabel('Latitude')\n",
    "plt.title('Linear Regression: Humidity vs Latitude for the Northern Hemisphere')\n",
    "plt.savefig(\"../output_data/fig7.png\")\n",
    "plt.show()"
   ]
  },
  {
   "cell_type": "markdown",
   "metadata": {},
   "source": [
    "####  Southern Hemisphere - Humidity (%) vs. Latitude Linear Regression"
   ]
  },
  {
   "cell_type": "code",
   "execution_count": null,
   "metadata": {},
   "outputs": [],
   "source": []
  },
  {
   "cell_type": "markdown",
   "metadata": {},
   "source": [
    "####  Northern Hemisphere - Cloudiness (%) vs. Latitude Linear Regression"
   ]
  },
  {
   "cell_type": "code",
   "execution_count": null,
   "metadata": {},
   "outputs": [],
   "source": []
  },
  {
   "cell_type": "markdown",
   "metadata": {},
   "source": [
    "####  Southern Hemisphere - Cloudiness (%) vs. Latitude Linear Regression"
   ]
  },
  {
   "cell_type": "code",
   "execution_count": null,
   "metadata": {},
   "outputs": [],
   "source": []
  },
  {
   "cell_type": "markdown",
   "metadata": {},
   "source": [
    "####  Northern Hemisphere - Wind Speed (mph) vs. Latitude Linear Regression"
   ]
  },
  {
   "cell_type": "code",
   "execution_count": null,
   "metadata": {},
   "outputs": [],
   "source": []
  },
  {
   "cell_type": "markdown",
   "metadata": {},
   "source": [
    "####  Southern Hemisphere - Wind Speed (mph) vs. Latitude Linear Regression"
   ]
  },
  {
   "cell_type": "code",
   "execution_count": null,
   "metadata": {},
   "outputs": [],
   "source": [
    " "
   ]
  },
  {
   "cell_type": "code",
   "execution_count": null,
   "metadata": {},
   "outputs": [],
   "source": [
    "# print(f\"The ID of the city is: {cityid}\")\n",
    "# print(f\"The latitude information received is: {lat}\")\n",
    "# print(f\"The longitude information received is: {long}\")\n",
    "# print(f\"The temperature information received is: {temp}\")\n",
    "# print(f\"The humidity information received is: {humidity}\")\n",
    "# print(f\"The cloud information received is: {clouds}\")\n",
    "# print(f\"The wind speed information received is: {wind}\")\n",
    "# print(f\"The maximum temperature received is: {maxtemp}\")\n",
    "# print(f\"The date received is: {date}\")\n",
    "# print(f\"                                                \")\n",
    "    \n",
    "    \n",
    "# url = \"http://api.openweathermap.org/data/2.5/weather?\"\n",
    "# units = \"imperial\"\n",
    "\n",
    "# # # Build partial query URL\n",
    "# query_url = f\"{url}appid={api_key}&units={units}&q=\"\n",
    "\n",
    "#     country=city.country_code\n",
    "#     country.append(country)\n",
    "# print(citi)\n",
    "# print(country)\n",
    "# cities = [\"Paris\", \"London\", \"Oslo\", \"Beijing\"]\n",
    "\n",
    "# url=\"http://api.openweathermap.org/data/2.5/weather?lat={87.6298}&lon={41.8781}&appid={api_key}\"\n",
    "# # url=\"http://api.openweathermap.org/data/2.5/weather?q={Chicago}&appid={api_key}?\"\n",
    "# citydata = requests.get(url).json()\n",
    "# print(json.dumps(citydata, indent=4, sort_keys=True))\n",
    "\n",
    "# Print the json\n",
    "# print(geo_data)\n",
    "# response=requests.get(f\"{query_url}'lat='{87.6298}'&lon='{41.8781}\").json()\n",
    "# print(response)\n",
    "\n",
    "# # set up lists to hold reponse info\n",
    "# citi = []\n",
    "# cityid = []\n",
    "# long = []\n",
    "# lat = []\n",
    "# temp = []\n",
    "# humidity = []\n",
    "# clouds = []\n",
    "# wind = []\n",
    "# country = []\n",
    "\n",
    "# for index, row in city_df.iterrows():\n",
    "#     latitude=row['lat']\n",
    "#     longitude=row['long']\n",
    "#     response=requests.get(f\"{query_url}'lat='{latitude}'&lon='{longitude}\").json()\n",
    "#     print(response)\n",
    "#     citi.append(response['name'])\n",
    "#     cityid.append(response['sys']['id'])\n",
    "#     long.append(response['coord']['lon'])\n",
    "#     lat.append(response['coord']['lat'])\n",
    "#     temp.append(response['main']['temp'])\n",
    "#     humidity.append(response['main']['humidity'])\n",
    "#     clouds.append(response['clouds']['all'])\n",
    "#     wind.append(response['wind']['speed'])\n",
    "#     country.append(response['sys']['country'])\n",
    "\n",
    "# Loop through the list of cities and perform a request for data on each\n",
    "# api.openweathermap.org/data/2.5/find?q=London&units=imperial\n",
    "# for city in cities:\n",
    "    \n",
    "#     response = requests.get(query_url + city).json()\n",
    "#     citi.append(response['name'])\n",
    "#     cityid.append(response['sys']['id'])\n",
    "#     long.append(response['coord']['lon'])\n",
    "#     lat.append(response['coord']['lat'])\n",
    "#     temp.append(response['main']['temp'])\n",
    "#     humidity.append(response['main']['humidity'])\n",
    "#     clouds.append(response['clouds']['all'])\n",
    "#     wind.append(response['wind']['speed'])\n",
    "#     country.append(response['sys']['country'])\n",
    "    \n",
    "# print(f\"The ID of the city is: {cityid}\")\n",
    "# print(f\"The city information received is: {citi}\")\n",
    "# print(f\"The country information received is: {country}\")\n",
    "# print(f\"The latitude information received is: {lat}\")\n",
    "# print(f\"The longitude information received is: {long}\")\n",
    "# print(f\"The temperature information received is: {temp}\")\n",
    "# print(f\"The humidity information received is: {humidity}\")\n",
    "# print(f\"The cloud information received is: {clouds}\")\n",
    "# print(f\"The wind speed information received is: {wind}\")\n",
    "\n",
    "\n",
    "\n",
    "# # Save config information\n",
    "# url = \"http://api.openweathermap.org/data/2.5/weather?\"\n",
    "# city = \"Chicago\"\n",
    "\n",
    "# # Build query URL\n",
    "# query_url = url + \"appid=\" + api_key + \"&q=\" + city\n",
    "\n",
    "# # Get weather data\n",
    "# weather_response = requests.get(query_url)\n",
    "# weather_json = weather_response.json()\n",
    "\n",
    "# # Get the temperature from the response\n",
    "# print(f\"The weather API responded with: {weather_json}.\")\n",
    "# pprint(weather_json)"
   ]
  }
 ],
 "metadata": {
  "anaconda-cloud": {},
  "kernel_info": {
   "name": "python3"
  },
  "kernelspec": {
   "display_name": "Python 3",
   "language": "python",
   "name": "python3"
  },
  "language_info": {
   "codemirror_mode": {
    "name": "ipython",
    "version": 3
   },
   "file_extension": ".py",
   "mimetype": "text/x-python",
   "name": "python",
   "nbconvert_exporter": "python",
   "pygments_lexer": "ipython3",
   "version": "3.7.6"
  },
  "latex_envs": {
   "LaTeX_envs_menu_present": true,
   "autoclose": false,
   "autocomplete": true,
   "bibliofile": "biblio.bib",
   "cite_by": "apalike",
   "current_citInitial": 1,
   "eqLabelWithNumbers": true,
   "eqNumInitial": 1,
   "hotkeys": {
    "equation": "Ctrl-E",
    "itemize": "Ctrl-I"
   },
   "labels_anchors": false,
   "latex_user_defs": false,
   "report_style_numbering": false,
   "user_envs_cfg": false
  },
  "nteract": {
   "version": "0.12.3"
  }
 },
 "nbformat": 4,
 "nbformat_minor": 2
}
