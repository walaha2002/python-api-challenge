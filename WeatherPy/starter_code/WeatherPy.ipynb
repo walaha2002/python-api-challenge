{
 "cells": [
  {
   "cell_type": "markdown",
   "metadata": {},
   "source": [
    "# WeatherPy\n",
    "----\n",
    "\n",
    "#### Note\n",
    "* Instructions have been included for each segment. You do not have to follow them exactly, but they are included to help you think through the steps."
   ]
  },
  {
   "cell_type": "code",
   "execution_count": 5,
   "metadata": {
    "scrolled": true
   },
   "outputs": [],
   "source": [
    "import requests\n",
    "import json\n",
    "import matplotlib.pyplot as plt\n",
    "import pandas as pd\n",
    "from citipy import citipy\n",
    "# import citipy\n",
    "import numpy as np\n",
    "from config import api_key\n",
    "from pprint import pprint"
   ]
  },
  {
   "cell_type": "markdown",
   "metadata": {},
   "source": [
    "## Generate Cities List"
   ]
  },
  {
   "cell_type": "code",
   "execution_count": 6,
   "metadata": {},
   "outputs": [
    {
     "data": {
      "text/html": [
       "<div>\n",
       "<style scoped>\n",
       "    .dataframe tbody tr th:only-of-type {\n",
       "        vertical-align: middle;\n",
       "    }\n",
       "\n",
       "    .dataframe tbody tr th {\n",
       "        vertical-align: top;\n",
       "    }\n",
       "\n",
       "    .dataframe thead th {\n",
       "        text-align: right;\n",
       "    }\n",
       "</style>\n",
       "<table border=\"1\" class=\"dataframe\">\n",
       "  <thead>\n",
       "    <tr style=\"text-align: right;\">\n",
       "      <th></th>\n",
       "      <th>long</th>\n",
       "      <th>lat</th>\n",
       "    </tr>\n",
       "  </thead>\n",
       "  <tbody>\n",
       "    <tr>\n",
       "      <th>0</th>\n",
       "      <td>-142.196754</td>\n",
       "      <td>36.839250</td>\n",
       "    </tr>\n",
       "    <tr>\n",
       "      <th>1</th>\n",
       "      <td>22.500402</td>\n",
       "      <td>9.286454</td>\n",
       "    </tr>\n",
       "    <tr>\n",
       "      <th>2</th>\n",
       "      <td>-144.008182</td>\n",
       "      <td>4.890698</td>\n",
       "    </tr>\n",
       "    <tr>\n",
       "      <th>3</th>\n",
       "      <td>-169.783411</td>\n",
       "      <td>-67.332636</td>\n",
       "    </tr>\n",
       "    <tr>\n",
       "      <th>4</th>\n",
       "      <td>139.526934</td>\n",
       "      <td>85.985528</td>\n",
       "    </tr>\n",
       "    <tr>\n",
       "      <th>5</th>\n",
       "      <td>-25.766725</td>\n",
       "      <td>78.879653</td>\n",
       "    </tr>\n",
       "    <tr>\n",
       "      <th>6</th>\n",
       "      <td>62.927532</td>\n",
       "      <td>69.326701</td>\n",
       "    </tr>\n",
       "    <tr>\n",
       "      <th>7</th>\n",
       "      <td>-135.809100</td>\n",
       "      <td>-68.944184</td>\n",
       "    </tr>\n",
       "    <tr>\n",
       "      <th>8</th>\n",
       "      <td>56.336540</td>\n",
       "      <td>-27.512430</td>\n",
       "    </tr>\n",
       "    <tr>\n",
       "      <th>9</th>\n",
       "      <td>78.877576</td>\n",
       "      <td>44.272400</td>\n",
       "    </tr>\n",
       "  </tbody>\n",
       "</table>\n",
       "</div>"
      ],
      "text/plain": [
       "         long        lat\n",
       "0 -142.196754  36.839250\n",
       "1   22.500402   9.286454\n",
       "2 -144.008182   4.890698\n",
       "3 -169.783411 -67.332636\n",
       "4  139.526934  85.985528\n",
       "5  -25.766725  78.879653\n",
       "6   62.927532  69.326701\n",
       "7 -135.809100 -68.944184\n",
       "8   56.336540 -27.512430\n",
       "9   78.877576  44.272400"
      ]
     },
     "execution_count": 6,
     "metadata": {},
     "output_type": "execute_result"
    }
   ],
   "source": [
    "# Get random numbers for latitude and longitude then place in a dataframe\n",
    "\n",
    "city_df=pd.DataFrame({\"long\":(np.random.uniform(-180,180,10)), \"lat\":(np.random.uniform(-90,90,10))})\n",
    "# city_df.head()\n",
    "# city_df.tail()\n",
    "city_df"
   ]
  },
  {
   "cell_type": "markdown",
   "metadata": {},
   "source": [
    "# Use Citipy to Retrieve City Names"
   ]
  },
  {
   "cell_type": "code",
   "execution_count": 7,
   "metadata": {},
   "outputs": [
    {
     "name": "stdout",
     "output_type": "stream",
     "text": [
      "['fortuna', 'birao', 'atuona', 'vaini', 'nizhneyansk', 'illoqqortoormiut', 'amderma', 'rikitea', 'saint-joseph', 'tekeli']\n",
      "['us', 'cf', 'pf', 'to', 'ru', 'gl', 'ru', 'pf', 're', 'kz']\n"
     ]
    },
    {
     "data": {
      "text/html": [
       "<div>\n",
       "<style scoped>\n",
       "    .dataframe tbody tr th:only-of-type {\n",
       "        vertical-align: middle;\n",
       "    }\n",
       "\n",
       "    .dataframe tbody tr th {\n",
       "        vertical-align: top;\n",
       "    }\n",
       "\n",
       "    .dataframe thead th {\n",
       "        text-align: right;\n",
       "    }\n",
       "</style>\n",
       "<table border=\"1\" class=\"dataframe\">\n",
       "  <thead>\n",
       "    <tr style=\"text-align: right;\">\n",
       "      <th></th>\n",
       "      <th>long</th>\n",
       "      <th>lat</th>\n",
       "      <th>City</th>\n",
       "      <th>Country</th>\n",
       "    </tr>\n",
       "  </thead>\n",
       "  <tbody>\n",
       "    <tr>\n",
       "      <th>0</th>\n",
       "      <td>-142.196754</td>\n",
       "      <td>36.839250</td>\n",
       "      <td>fortuna</td>\n",
       "      <td>us</td>\n",
       "    </tr>\n",
       "    <tr>\n",
       "      <th>1</th>\n",
       "      <td>22.500402</td>\n",
       "      <td>9.286454</td>\n",
       "      <td>birao</td>\n",
       "      <td>cf</td>\n",
       "    </tr>\n",
       "    <tr>\n",
       "      <th>2</th>\n",
       "      <td>-144.008182</td>\n",
       "      <td>4.890698</td>\n",
       "      <td>atuona</td>\n",
       "      <td>pf</td>\n",
       "    </tr>\n",
       "    <tr>\n",
       "      <th>3</th>\n",
       "      <td>-169.783411</td>\n",
       "      <td>-67.332636</td>\n",
       "      <td>vaini</td>\n",
       "      <td>to</td>\n",
       "    </tr>\n",
       "    <tr>\n",
       "      <th>4</th>\n",
       "      <td>139.526934</td>\n",
       "      <td>85.985528</td>\n",
       "      <td>nizhneyansk</td>\n",
       "      <td>ru</td>\n",
       "    </tr>\n",
       "    <tr>\n",
       "      <th>5</th>\n",
       "      <td>-25.766725</td>\n",
       "      <td>78.879653</td>\n",
       "      <td>illoqqortoormiut</td>\n",
       "      <td>gl</td>\n",
       "    </tr>\n",
       "    <tr>\n",
       "      <th>6</th>\n",
       "      <td>62.927532</td>\n",
       "      <td>69.326701</td>\n",
       "      <td>amderma</td>\n",
       "      <td>ru</td>\n",
       "    </tr>\n",
       "    <tr>\n",
       "      <th>7</th>\n",
       "      <td>-135.809100</td>\n",
       "      <td>-68.944184</td>\n",
       "      <td>rikitea</td>\n",
       "      <td>pf</td>\n",
       "    </tr>\n",
       "    <tr>\n",
       "      <th>8</th>\n",
       "      <td>56.336540</td>\n",
       "      <td>-27.512430</td>\n",
       "      <td>saint-joseph</td>\n",
       "      <td>re</td>\n",
       "    </tr>\n",
       "    <tr>\n",
       "      <th>9</th>\n",
       "      <td>78.877576</td>\n",
       "      <td>44.272400</td>\n",
       "      <td>tekeli</td>\n",
       "      <td>kz</td>\n",
       "    </tr>\n",
       "  </tbody>\n",
       "</table>\n",
       "</div>"
      ],
      "text/plain": [
       "         long        lat              City Country\n",
       "0 -142.196754  36.839250           fortuna      us\n",
       "1   22.500402   9.286454             birao      cf\n",
       "2 -144.008182   4.890698            atuona      pf\n",
       "3 -169.783411 -67.332636             vaini      to\n",
       "4  139.526934  85.985528       nizhneyansk      ru\n",
       "5  -25.766725  78.879653  illoqqortoormiut      gl\n",
       "6   62.927532  69.326701           amderma      ru\n",
       "7 -135.809100 -68.944184           rikitea      pf\n",
       "8   56.336540 -27.512430      saint-joseph      re\n",
       "9   78.877576  44.272400            tekeli      kz"
      ]
     },
     "execution_count": 7,
     "metadata": {},
     "output_type": "execute_result"
    }
   ],
   "source": [
    "# Create lists to store city and country names\n",
    "# Source: https://github.com/wingchen/citipy\n",
    "citi=[]\n",
    "country=[]\n",
    "\n",
    "for index, row in city_df.iterrows():\n",
    "    latitude=row['lat']\n",
    "    longitude=row['long']\n",
    "    city=citipy.nearest_city(latitude,longitude)\n",
    "    cityname=city.city_name\n",
    "    citi.append(cityname)\n",
    "    cntryname=city.country_code\n",
    "    country.append(cntryname)\n",
    "print(citi)\n",
    "print(country)\n",
    "\n",
    "# Adds new lists to dataframe\n",
    "city_df['City']=citi\n",
    "city_df['Country']=country\n",
    "city_df"
   ]
  },
  {
   "cell_type": "code",
   "execution_count": 4,
   "metadata": {},
   "outputs": [
    {
     "name": "stdout",
     "output_type": "stream",
     "text": [
      "{'coord': {'lon': -27.07, 'lat': 38.73}, 'weather': [{'id': 803, 'main': 'Clouds', 'description': 'broken clouds', 'icon': '04n'}], 'base': 'stations', 'main': {'temp': 66.11, 'feels_like': 59.23, 'temp_min': 66, 'temp_max': 66.2, 'pressure': 1030, 'humidity': 77}, 'visibility': 10000, 'wind': {'speed': 17.18, 'deg': 87}, 'clouds': {'all': 75}, 'dt': 1602480628, 'sys': {'type': 1, 'id': 6895, 'country': 'PT', 'sunrise': 1602489284, 'sunset': 1602530055}, 'timezone': 0, 'id': 3372760, 'name': 'Praia da Vitória', 'cod': 200}\n",
      "{'coord': {'lon': -68.3, 'lat': -54.8}, 'weather': [{'id': 802, 'main': 'Clouds', 'description': 'scattered clouds', 'icon': '03n'}], 'base': 'stations', 'main': {'temp': 41, 'feels_like': 35.65, 'temp_min': 41, 'temp_max': 41, 'pressure': 997, 'humidity': 87}, 'visibility': 10000, 'wind': {'speed': 4.7, 'deg': 180}, 'clouds': {'all': 40}, 'dt': 1602480585, 'sys': {'type': 1, 'id': 8303, 'country': 'AR', 'sunrise': 1602494977, 'sunset': 1602544149}, 'timezone': -10800, 'id': 3833367, 'name': 'Ushuaia', 'cod': 200}\n",
      "{'coord': {'lon': 30.79, 'lat': 59.7}, 'weather': [{'id': 300, 'main': 'Drizzle', 'description': 'light intensity drizzle', 'icon': '09d'}, {'id': 701, 'main': 'Mist', 'description': 'mist', 'icon': '50d'}], 'base': 'stations', 'main': {'temp': 51.26, 'feels_like': 49.64, 'temp_min': 50, 'temp_max': 52, 'pressure': 1013, 'humidity': 93}, 'visibility': 4800, 'wind': {'speed': 2.68, 'deg': 181}, 'clouds': {'all': 90}, 'dt': 1602480628, 'sys': {'type': 1, 'id': 8926, 'country': 'RU', 'sunrise': 1602476918, 'sunset': 1602514654}, 'timezone': 10800, 'id': 546105, 'name': 'Nikolskoye', 'cod': 200}\n",
      "{'coord': {'lon': -133.04, 'lat': 69.45}, 'weather': [{'id': 600, 'main': 'Snow', 'description': 'light snow', 'icon': '13n'}], 'base': 'stations', 'main': {'temp': 24.8, 'feels_like': 7.84, 'temp_min': 24.8, 'temp_max': 24.8, 'pressure': 1013, 'humidity': 73}, 'visibility': 10000, 'wind': {'speed': 20.8, 'deg': 10}, 'clouds': {'all': 75}, 'dt': 1602480628, 'sys': {'type': 1, 'id': 942, 'country': 'CA', 'sunrise': 1602431325, 'sunset': 1602466101}, 'timezone': -21600, 'id': 6170031, 'name': 'Tuktoyaktuk', 'cod': 200}\n",
      "{'coord': {'lon': 26.89, 'lat': -33.59}, 'weather': [{'id': 800, 'main': 'Clear', 'description': 'clear sky', 'icon': '01d'}], 'base': 'stations', 'main': {'temp': 59.5, 'feels_like': 49.35, 'temp_min': 59.5, 'temp_max': 59.5, 'pressure': 1022, 'humidity': 60, 'sea_level': 1022, 'grnd_level': 1020}, 'visibility': 10000, 'wind': {'speed': 16.2, 'deg': 40}, 'clouds': {'all': 1}, 'dt': 1602480628, 'sys': {'country': 'ZA', 'sunrise': 1602473669, 'sunset': 1602519774}, 'timezone': 7200, 'id': 964432, 'name': 'Port Alfred', 'cod': 200}\n"
     ]
    },
    {
     "ename": "KeyError",
     "evalue": "'id'",
     "output_type": "error",
     "traceback": [
      "\u001b[1;31m---------------------------------------------------------------------------\u001b[0m",
      "\u001b[1;31mKeyError\u001b[0m                                  Traceback (most recent call last)",
      "\u001b[1;32m<ipython-input-4-de2d68e30262>\u001b[0m in \u001b[0;36m<module>\u001b[1;34m\u001b[0m\n\u001b[0;32m     33\u001b[0m     \u001b[0mresponse\u001b[0m\u001b[1;33m=\u001b[0m\u001b[0mrequests\u001b[0m\u001b[1;33m.\u001b[0m\u001b[0mget\u001b[0m\u001b[1;33m(\u001b[0m\u001b[0mquery_url\u001b[0m \u001b[1;33m+\u001b[0m \u001b[0mcityposition\u001b[0m \u001b[1;33m+\u001b[0m\u001b[1;34m\",\"\u001b[0m\u001b[1;33m+\u001b[0m \u001b[0mcntryposition\u001b[0m\u001b[1;33m)\u001b[0m\u001b[1;33m.\u001b[0m\u001b[0mjson\u001b[0m\u001b[1;33m(\u001b[0m\u001b[1;33m)\u001b[0m\u001b[1;33m\u001b[0m\u001b[1;33m\u001b[0m\u001b[0m\n\u001b[0;32m     34\u001b[0m     \u001b[0mprint\u001b[0m\u001b[1;33m(\u001b[0m\u001b[0mresponse\u001b[0m\u001b[1;33m)\u001b[0m\u001b[1;33m\u001b[0m\u001b[1;33m\u001b[0m\u001b[0m\n\u001b[1;32m---> 35\u001b[1;33m     \u001b[0mcityid\u001b[0m\u001b[1;33m.\u001b[0m\u001b[0mappend\u001b[0m\u001b[1;33m(\u001b[0m\u001b[0mresponse\u001b[0m\u001b[1;33m[\u001b[0m\u001b[1;34m'sys'\u001b[0m\u001b[1;33m]\u001b[0m\u001b[1;33m[\u001b[0m\u001b[1;34m'id'\u001b[0m\u001b[1;33m]\u001b[0m\u001b[1;33m)\u001b[0m\u001b[1;33m\u001b[0m\u001b[1;33m\u001b[0m\u001b[0m\n\u001b[0m\u001b[0;32m     36\u001b[0m     \u001b[0mlong\u001b[0m\u001b[1;33m.\u001b[0m\u001b[0mappend\u001b[0m\u001b[1;33m(\u001b[0m\u001b[0mresponse\u001b[0m\u001b[1;33m[\u001b[0m\u001b[1;34m'coord'\u001b[0m\u001b[1;33m]\u001b[0m\u001b[1;33m[\u001b[0m\u001b[1;34m'lon'\u001b[0m\u001b[1;33m]\u001b[0m\u001b[1;33m)\u001b[0m\u001b[1;33m\u001b[0m\u001b[1;33m\u001b[0m\u001b[0m\n\u001b[0;32m     37\u001b[0m     \u001b[0mlat\u001b[0m\u001b[1;33m.\u001b[0m\u001b[0mappend\u001b[0m\u001b[1;33m(\u001b[0m\u001b[0mresponse\u001b[0m\u001b[1;33m[\u001b[0m\u001b[1;34m'coord'\u001b[0m\u001b[1;33m]\u001b[0m\u001b[1;33m[\u001b[0m\u001b[1;34m'lat'\u001b[0m\u001b[1;33m]\u001b[0m\u001b[1;33m)\u001b[0m\u001b[1;33m\u001b[0m\u001b[1;33m\u001b[0m\u001b[0m\n",
      "\u001b[1;31mKeyError\u001b[0m: 'id'"
     ]
    }
   ],
   "source": [
    "# api.openweathermap.org/data/2.5/weather?q={city name}&appid={API key}# URL format to get weather data using longitude and latitude\n",
    "# # # api.openweathermap.org/data/2.5/weather?lat={lat}&lon={lon}&appid={API key}\n",
    "# api.openweathermap.org/data/2.5/weather?q=London,uk&appid={API key}\n",
    "# api.openweathermap.org/data/2.5/find?q=London&units=imperial\n",
    "\n",
    "# https://api.openweathermap.org/data/2.5/weather?q=London,uk&appid=api_key&units=imperial\n",
    "# https://api.openweathermap.org/data/2.5/weather?&units=imperial&appid=api_key&q=London,uk\n",
    "\n",
    "url = \"http://api.openweathermap.org/data/2.5/weather?\"\n",
    "units = 'imperial'\n",
    "query_url=f\"{url}&units={units}&appid={api_key}&q=\"\n",
    "# query_url = f\"{url}appid={api_key}&units={units}&q=\"\n",
    "\n",
    "cityid = []\n",
    "long = []\n",
    "lat = []\n",
    "temp = []\n",
    "humidity = []\n",
    "clouds = []\n",
    "wind = []\n",
    "\n",
    "\n",
    "# weather_response = requests.get(query_url)\n",
    "# weather_json = weather_response.json()\n",
    "\n",
    "\n",
    "# # Build query URL\n",
    "# query_url = url + \"appid=\" + api_key + \"&q=\" + city\n",
    "\n",
    "for index, row in city_df.iterrows():\n",
    "    cityposition=row['City']\n",
    "    cntryposition= row['Country']\n",
    "    response=requests.get(query_url + cityposition +\",\"+ cntryposition).json()\n",
    "    print(response)\n",
    "    cityid.append(response['sys']['id'])\n",
    "    long.append(response['coord']['lon'])\n",
    "    lat.append(response['coord']['lat'])\n",
    "    temp.append(response['main']['temp'])\n",
    "    humidity.append(response['main']['humidity'])\n",
    "    clouds.append(response['clouds']['all'])\n",
    "    wind.append(response['wind']['speed'])\n",
    "\n",
    "print(f\"The ID of the city is: {cityid}\")\n",
    "print(f\"The latitude information received is: {lat}\")\n",
    "print(f\"The longitude information received is: {long}\")\n",
    "print(f\"The temperature information received is: {temp}\")\n",
    "print(f\"The humidity information received is: {humidity}\")\n",
    "print(f\"The cloud information received is: {clouds}\")\n",
    "print(f\"The wind speed information received is: {wind}\")\n",
    "\n",
    "# url = \"http://api.openweathermap.org/data/2.5/weather?\"\n",
    "# units = \"imperial\"\n",
    "\n",
    "# # # Build partial query URL\n",
    "# query_url = f\"{url}appid={api_key}&units={units}&q=\"\n",
    "\n",
    "#     country=city.country_code\n",
    "#     country.append(country)\n",
    "# print(citi)\n",
    "# print(country)\n",
    "# cities = [\"Paris\", \"London\", \"Oslo\", \"Beijing\"]\n",
    "\n",
    "# url=\"http://api.openweathermap.org/data/2.5/weather?lat={87.6298}&lon={41.8781}&appid={api_key}\"\n",
    "# # url=\"http://api.openweathermap.org/data/2.5/weather?q={Chicago}&appid={api_key}?\"\n",
    "# citydata = requests.get(url).json()\n",
    "# print(json.dumps(citydata, indent=4, sort_keys=True))\n",
    "\n",
    "# Print the json\n",
    "# print(geo_data)\n",
    "# response=requests.get(f\"{query_url}'lat='{87.6298}'&lon='{41.8781}\").json()\n",
    "# print(response)\n",
    "\n",
    "# # set up lists to hold reponse info\n",
    "# citi = []\n",
    "# cityid = []\n",
    "# long = []\n",
    "# lat = []\n",
    "# temp = []\n",
    "# humidity = []\n",
    "# clouds = []\n",
    "# wind = []\n",
    "# country = []\n",
    "\n",
    "# for index, row in city_df.iterrows():\n",
    "#     latitude=row['lat']\n",
    "#     longitude=row['long']\n",
    "#     response=requests.get(f\"{query_url}'lat='{latitude}'&lon='{longitude}\").json()\n",
    "#     print(response)\n",
    "#     citi.append(response['name'])\n",
    "#     cityid.append(response['sys']['id'])\n",
    "#     long.append(response['coord']['lon'])\n",
    "#     lat.append(response['coord']['lat'])\n",
    "#     temp.append(response['main']['temp'])\n",
    "#     humidity.append(response['main']['humidity'])\n",
    "#     clouds.append(response['clouds']['all'])\n",
    "#     wind.append(response['wind']['speed'])\n",
    "#     country.append(response['sys']['country'])\n",
    "\n",
    "# Loop through the list of cities and perform a request for data on each\n",
    "# api.openweathermap.org/data/2.5/find?q=London&units=imperial\n",
    "# for city in cities:\n",
    "    \n",
    "#     response = requests.get(query_url + city).json()\n",
    "#     citi.append(response['name'])\n",
    "#     cityid.append(response['sys']['id'])\n",
    "#     long.append(response['coord']['lon'])\n",
    "#     lat.append(response['coord']['lat'])\n",
    "#     temp.append(response['main']['temp'])\n",
    "#     humidity.append(response['main']['humidity'])\n",
    "#     clouds.append(response['clouds']['all'])\n",
    "#     wind.append(response['wind']['speed'])\n",
    "#     country.append(response['sys']['country'])\n",
    "    \n",
    "# print(f\"The ID of the city is: {cityid}\")\n",
    "# print(f\"The city information received is: {citi}\")\n",
    "# print(f\"The country information received is: {country}\")\n",
    "# print(f\"The latitude information received is: {lat}\")\n",
    "# print(f\"The longitude information received is: {long}\")\n",
    "# print(f\"The temperature information received is: {temp}\")\n",
    "# print(f\"The humidity information received is: {humidity}\")\n",
    "# print(f\"The cloud information received is: {clouds}\")\n",
    "# print(f\"The wind speed information received is: {wind}\")\n",
    "\n",
    "\n",
    "# # Save config information\n",
    "# url = \"http://api.openweathermap.org/data/2.5/weather?\"\n",
    "# city = \"Chicago\"\n",
    "\n",
    "# # Build query URL\n",
    "# query_url = url + \"appid=\" + api_key + \"&q=\" + city\n",
    "\n",
    "# # Get weather data\n",
    "# weather_response = requests.get(query_url)\n",
    "# weather_json = weather_response.json()\n",
    "\n",
    "# # Get the temperature from the response\n",
    "# print(f\"The weather API responded with: {weather_json}.\")\n",
    "# pprint(weather_json)"
   ]
  },
  {
   "cell_type": "markdown",
   "metadata": {},
   "source": [
    "### Perform API Calls\n",
    "* Perform a weather check on each city using a series of successive API calls.\n",
    "* Include a print log of each city as it'sbeing processed (with the city number and city name).\n"
   ]
  },
  {
   "cell_type": "code",
   "execution_count": null,
   "metadata": {
    "scrolled": true
   },
   "outputs": [],
   "source": []
  },
  {
   "cell_type": "markdown",
   "metadata": {},
   "source": [
    "### Convert Raw Data to DataFrame\n",
    "* Export the city data into a .csv.\n",
    "* Display the DataFrame"
   ]
  },
  {
   "cell_type": "code",
   "execution_count": null,
   "metadata": {},
   "outputs": [],
   "source": []
  },
  {
   "cell_type": "code",
   "execution_count": null,
   "metadata": {},
   "outputs": [],
   "source": []
  },
  {
   "cell_type": "markdown",
   "metadata": {},
   "source": [
    "## Inspect the data and remove the cities where the humidity > 100%.\n",
    "----\n",
    "Skip this step if there are no cities that have humidity > 100%. "
   ]
  },
  {
   "cell_type": "code",
   "execution_count": null,
   "metadata": {},
   "outputs": [],
   "source": []
  },
  {
   "cell_type": "code",
   "execution_count": null,
   "metadata": {},
   "outputs": [],
   "source": [
    "#  Get the indices of cities that have humidity over 100%.\n"
   ]
  },
  {
   "cell_type": "code",
   "execution_count": null,
   "metadata": {},
   "outputs": [],
   "source": [
    "# Make a new DataFrame equal to the city data to drop all humidity outliers by index.\n",
    "# Passing \"inplace=False\" will make a copy of the city_data DataFrame, which we call \"clean_city_data\".\n"
   ]
  },
  {
   "cell_type": "code",
   "execution_count": null,
   "metadata": {},
   "outputs": [],
   "source": [
    "\n"
   ]
  },
  {
   "cell_type": "markdown",
   "metadata": {},
   "source": [
    "## Plotting the Data\n",
    "* Use proper labeling of the plots using plot titles (including date of analysis) and axes labels.\n",
    "* Save the plotted figures as .pngs."
   ]
  },
  {
   "cell_type": "markdown",
   "metadata": {},
   "source": [
    "## Latitude vs. Temperature Plot"
   ]
  },
  {
   "cell_type": "code",
   "execution_count": null,
   "metadata": {
    "scrolled": true
   },
   "outputs": [],
   "source": []
  },
  {
   "cell_type": "markdown",
   "metadata": {},
   "source": [
    "## Latitude vs. Humidity Plot"
   ]
  },
  {
   "cell_type": "code",
   "execution_count": null,
   "metadata": {},
   "outputs": [],
   "source": []
  },
  {
   "cell_type": "markdown",
   "metadata": {},
   "source": [
    "## Latitude vs. Cloudiness Plot"
   ]
  },
  {
   "cell_type": "code",
   "execution_count": null,
   "metadata": {},
   "outputs": [],
   "source": []
  },
  {
   "cell_type": "markdown",
   "metadata": {},
   "source": [
    "## Latitude vs. Wind Speed Plot"
   ]
  },
  {
   "cell_type": "code",
   "execution_count": null,
   "metadata": {},
   "outputs": [],
   "source": []
  },
  {
   "cell_type": "markdown",
   "metadata": {},
   "source": [
    "## Linear Regression"
   ]
  },
  {
   "cell_type": "code",
   "execution_count": null,
   "metadata": {},
   "outputs": [],
   "source": []
  },
  {
   "cell_type": "markdown",
   "metadata": {},
   "source": [
    "####  Northern Hemisphere - Max Temp vs. Latitude Linear Regression"
   ]
  },
  {
   "cell_type": "code",
   "execution_count": null,
   "metadata": {},
   "outputs": [],
   "source": []
  },
  {
   "cell_type": "markdown",
   "metadata": {},
   "source": [
    "####  Southern Hemisphere - Max Temp vs. Latitude Linear Regression"
   ]
  },
  {
   "cell_type": "code",
   "execution_count": null,
   "metadata": {},
   "outputs": [],
   "source": []
  },
  {
   "cell_type": "markdown",
   "metadata": {},
   "source": [
    "####  Northern Hemisphere - Humidity (%) vs. Latitude Linear Regression"
   ]
  },
  {
   "cell_type": "code",
   "execution_count": null,
   "metadata": {},
   "outputs": [],
   "source": []
  },
  {
   "cell_type": "markdown",
   "metadata": {},
   "source": [
    "####  Southern Hemisphere - Humidity (%) vs. Latitude Linear Regression"
   ]
  },
  {
   "cell_type": "code",
   "execution_count": null,
   "metadata": {},
   "outputs": [],
   "source": []
  },
  {
   "cell_type": "markdown",
   "metadata": {},
   "source": [
    "####  Northern Hemisphere - Cloudiness (%) vs. Latitude Linear Regression"
   ]
  },
  {
   "cell_type": "code",
   "execution_count": null,
   "metadata": {},
   "outputs": [],
   "source": []
  },
  {
   "cell_type": "markdown",
   "metadata": {},
   "source": [
    "####  Southern Hemisphere - Cloudiness (%) vs. Latitude Linear Regression"
   ]
  },
  {
   "cell_type": "code",
   "execution_count": null,
   "metadata": {},
   "outputs": [],
   "source": []
  },
  {
   "cell_type": "markdown",
   "metadata": {},
   "source": [
    "####  Northern Hemisphere - Wind Speed (mph) vs. Latitude Linear Regression"
   ]
  },
  {
   "cell_type": "code",
   "execution_count": null,
   "metadata": {},
   "outputs": [],
   "source": []
  },
  {
   "cell_type": "markdown",
   "metadata": {},
   "source": [
    "####  Southern Hemisphere - Wind Speed (mph) vs. Latitude Linear Regression"
   ]
  },
  {
   "cell_type": "code",
   "execution_count": null,
   "metadata": {},
   "outputs": [],
   "source": []
  },
  {
   "cell_type": "code",
   "execution_count": null,
   "metadata": {},
   "outputs": [],
   "source": []
  }
 ],
 "metadata": {
  "anaconda-cloud": {},
  "kernel_info": {
   "name": "python3"
  },
  "kernelspec": {
   "display_name": "Python 3",
   "language": "python",
   "name": "python3"
  },
  "language_info": {
   "codemirror_mode": {
    "name": "ipython",
    "version": 3
   },
   "file_extension": ".py",
   "mimetype": "text/x-python",
   "name": "python",
   "nbconvert_exporter": "python",
   "pygments_lexer": "ipython3",
   "version": "3.7.6"
  },
  "latex_envs": {
   "LaTeX_envs_menu_present": true,
   "autoclose": false,
   "autocomplete": true,
   "bibliofile": "biblio.bib",
   "cite_by": "apalike",
   "current_citInitial": 1,
   "eqLabelWithNumbers": true,
   "eqNumInitial": 1,
   "hotkeys": {
    "equation": "Ctrl-E",
    "itemize": "Ctrl-I"
   },
   "labels_anchors": false,
   "latex_user_defs": false,
   "report_style_numbering": false,
   "user_envs_cfg": false
  },
  "nteract": {
   "version": "0.12.3"
  }
 },
 "nbformat": 4,
 "nbformat_minor": 2
}
