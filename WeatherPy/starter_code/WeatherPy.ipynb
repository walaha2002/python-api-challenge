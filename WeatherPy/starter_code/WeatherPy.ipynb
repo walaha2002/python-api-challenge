{
 "cells": [
  {
   "cell_type": "markdown",
   "metadata": {},
   "source": [
    "# WeatherPy\n",
    "----\n",
    "\n",
    "#### Note\n",
    "* Instructions have been included for each segment. You do not have to follow them exactly, but they are included to help you think through the steps."
   ]
  },
  {
   "cell_type": "code",
   "execution_count": 5,
   "metadata": {
    "scrolled": true
   },
   "outputs": [],
   "source": [
    "import requests\n",
    "import json\n",
    "import matplotlib.pyplot as plt\n",
    "import pandas as pd\n",
    "from citipy import citipy\n",
    "# import citipy\n",
    "import numpy as np\n",
    "from config import api_key\n",
    "from pprint import pprint"
   ]
  },
  {
   "cell_type": "markdown",
   "metadata": {},
   "source": [
    "## Generate Cities List"
   ]
  },
  {
   "cell_type": "code",
   "execution_count": 6,
   "metadata": {},
   "outputs": [
    {
     "data": {
      "text/html": [
       "<div>\n",
       "<style scoped>\n",
       "    .dataframe tbody tr th:only-of-type {\n",
       "        vertical-align: middle;\n",
       "    }\n",
       "\n",
       "    .dataframe tbody tr th {\n",
       "        vertical-align: top;\n",
       "    }\n",
       "\n",
       "    .dataframe thead th {\n",
       "        text-align: right;\n",
       "    }\n",
       "</style>\n",
       "<table border=\"1\" class=\"dataframe\">\n",
       "  <thead>\n",
       "    <tr style=\"text-align: right;\">\n",
       "      <th></th>\n",
       "      <th>long</th>\n",
       "      <th>lat</th>\n",
       "    </tr>\n",
       "  </thead>\n",
       "  <tbody>\n",
       "    <tr>\n",
       "      <th>0</th>\n",
       "      <td>-48.509881</td>\n",
       "      <td>79.025325</td>\n",
       "    </tr>\n",
       "    <tr>\n",
       "      <th>1</th>\n",
       "      <td>-63.115715</td>\n",
       "      <td>-16.853464</td>\n",
       "    </tr>\n",
       "    <tr>\n",
       "      <th>2</th>\n",
       "      <td>-106.937886</td>\n",
       "      <td>-0.390971</td>\n",
       "    </tr>\n",
       "    <tr>\n",
       "      <th>3</th>\n",
       "      <td>48.474671</td>\n",
       "      <td>-30.035767</td>\n",
       "    </tr>\n",
       "    <tr>\n",
       "      <th>4</th>\n",
       "      <td>-176.230789</td>\n",
       "      <td>35.746495</td>\n",
       "    </tr>\n",
       "  </tbody>\n",
       "</table>\n",
       "</div>"
      ],
      "text/plain": [
       "         long        lat\n",
       "0  -48.509881  79.025325\n",
       "1  -63.115715 -16.853464\n",
       "2 -106.937886  -0.390971\n",
       "3   48.474671 -30.035767\n",
       "4 -176.230789  35.746495"
      ]
     },
     "execution_count": 6,
     "metadata": {},
     "output_type": "execute_result"
    }
   ],
   "source": [
    "# Get random numbers for latitude and longitude then place in a dataframe\n",
    "\n",
    "city_df=pd.DataFrame({\"long\":(np.random.uniform(-180,180,5)), \"lat\":(np.random.uniform(-90,90,5))})\n",
    "# city_df.head()\n",
    "# city_df.tail()\n",
    "city_df"
   ]
  },
  {
   "cell_type": "markdown",
   "metadata": {},
   "source": [
    "# Use Citipy to Retrieve City Names"
   ]
  },
  {
   "cell_type": "code",
   "execution_count": 7,
   "metadata": {},
   "outputs": [
    {
     "name": "stdout",
     "output_type": "stream",
     "text": [
      "['upernavik', 'mineros', 'puerto ayora', 'taolanaro', 'kapaa']\n",
      "['gl', 'bo', 'ec', 'mg', 'us']\n"
     ]
    },
    {
     "data": {
      "text/html": [
       "<div>\n",
       "<style scoped>\n",
       "    .dataframe tbody tr th:only-of-type {\n",
       "        vertical-align: middle;\n",
       "    }\n",
       "\n",
       "    .dataframe tbody tr th {\n",
       "        vertical-align: top;\n",
       "    }\n",
       "\n",
       "    .dataframe thead th {\n",
       "        text-align: right;\n",
       "    }\n",
       "</style>\n",
       "<table border=\"1\" class=\"dataframe\">\n",
       "  <thead>\n",
       "    <tr style=\"text-align: right;\">\n",
       "      <th></th>\n",
       "      <th>long</th>\n",
       "      <th>lat</th>\n",
       "      <th>City</th>\n",
       "      <th>Country</th>\n",
       "    </tr>\n",
       "  </thead>\n",
       "  <tbody>\n",
       "    <tr>\n",
       "      <th>0</th>\n",
       "      <td>-48.509881</td>\n",
       "      <td>79.025325</td>\n",
       "      <td>upernavik</td>\n",
       "      <td>gl</td>\n",
       "    </tr>\n",
       "    <tr>\n",
       "      <th>1</th>\n",
       "      <td>-63.115715</td>\n",
       "      <td>-16.853464</td>\n",
       "      <td>mineros</td>\n",
       "      <td>bo</td>\n",
       "    </tr>\n",
       "    <tr>\n",
       "      <th>2</th>\n",
       "      <td>-106.937886</td>\n",
       "      <td>-0.390971</td>\n",
       "      <td>puerto ayora</td>\n",
       "      <td>ec</td>\n",
       "    </tr>\n",
       "    <tr>\n",
       "      <th>3</th>\n",
       "      <td>48.474671</td>\n",
       "      <td>-30.035767</td>\n",
       "      <td>taolanaro</td>\n",
       "      <td>mg</td>\n",
       "    </tr>\n",
       "    <tr>\n",
       "      <th>4</th>\n",
       "      <td>-176.230789</td>\n",
       "      <td>35.746495</td>\n",
       "      <td>kapaa</td>\n",
       "      <td>us</td>\n",
       "    </tr>\n",
       "  </tbody>\n",
       "</table>\n",
       "</div>"
      ],
      "text/plain": [
       "         long        lat          City Country\n",
       "0  -48.509881  79.025325     upernavik      gl\n",
       "1  -63.115715 -16.853464       mineros      bo\n",
       "2 -106.937886  -0.390971  puerto ayora      ec\n",
       "3   48.474671 -30.035767     taolanaro      mg\n",
       "4 -176.230789  35.746495         kapaa      us"
      ]
     },
     "execution_count": 7,
     "metadata": {},
     "output_type": "execute_result"
    }
   ],
   "source": [
    "# Create lists to store city and country names\n",
    "# Source: https://github.com/wingchen/citipy\n",
    "citi=[]\n",
    "country=[]\n",
    "\n",
    "for index, row in city_df.iterrows():\n",
    "    latitude=row['lat']\n",
    "    longitude=row['long']\n",
    "    city=citipy.nearest_city(latitude,longitude)\n",
    "    cityname=city.city_name\n",
    "    citi.append(cityname)\n",
    "    cntryname=city.country_code\n",
    "    country.append(cntryname)\n",
    "print(citi)\n",
    "print(country)\n",
    "\n",
    "# Adds new lists to dataframe\n",
    "city_df['City']=citi\n",
    "city_df['Country']=country\n",
    "city_df"
   ]
  },
  {
   "cell_type": "code",
   "execution_count": 26,
   "metadata": {},
   "outputs": [
    {
     "name": "stdout",
     "output_type": "stream",
     "text": [
      "The ID of the city is: [3418910]\n",
      "The latitude information received is: [72.79]\n",
      "The longitude information received is: [-56.15]\n",
      "The temperature information received is: [33.58]\n",
      "The humidity information received is: [92]\n",
      "The cloud information received is: [71]\n",
      "The wind speed information received is: [3.31]\n",
      "The maximum temperature received is: [33.58]\n",
      "The date received is: [1602512952]\n",
      "                                                \n",
      "The ID of the city is: [3418910, 3910343]\n",
      "The latitude information received is: [72.79, -17.12]\n",
      "The longitude information received is: [-56.15, -63.23]\n",
      "The temperature information received is: [33.58, 89.6]\n",
      "The humidity information received is: [92, 59]\n",
      "The cloud information received is: [71, 40]\n",
      "The wind speed information received is: [3.31, 16.11]\n",
      "The maximum temperature received is: [33.58, 89.6]\n",
      "The date received is: [1602512952, 1602513165]\n",
      "                                                \n",
      "The ID of the city is: [3418910, 3910343, 3652764]\n",
      "The latitude information received is: [72.79, -17.12, -0.74]\n",
      "The longitude information received is: [-56.15, -63.23, -90.35]\n",
      "The temperature information received is: [33.58, 89.6, 69.01]\n",
      "The humidity information received is: [92, 59, 94]\n",
      "The cloud information received is: [71, 40, 100]\n",
      "The wind speed information received is: [3.31, 16.11, 10]\n",
      "The maximum temperature received is: [33.58, 89.6, 69.01]\n",
      "The date received is: [1602512952, 1602513165, 1602513165]\n",
      "                                                \n",
      "The city can't be found\n",
      "The ID of the city is: [3418910, 3910343, 3652764, 5848280]\n",
      "The latitude information received is: [72.79, -17.12, -0.74, 22.08]\n",
      "The longitude information received is: [-56.15, -63.23, -90.35, -159.32]\n",
      "The temperature information received is: [33.58, 89.6, 69.01, 75.2]\n",
      "The humidity information received is: [92, 59, 94, 88]\n",
      "The cloud information received is: [71, 40, 100, 1]\n",
      "The wind speed information received is: [3.31, 16.11, 10, 5.82]\n",
      "The maximum temperature received is: [33.58, 89.6, 69.01, 75.2]\n",
      "The date received is: [1602512952, 1602513165, 1602513165, 1602512989]\n",
      "                                                \n"
     ]
    }
   ],
   "source": [
    "# https://api.openweathermap.org/data/2.5/weather?q=London,uk&appid=api_key&units=imperial\n",
    "# https://api.openweathermap.org/data/2.5/weather?&units=imperial&appid=api_key&q=London,uk\n",
    "\n",
    "url = \"http://api.openweathermap.org/data/2.5/weather?\"\n",
    "units = 'imperial'\n",
    "query_url=f\"{url}&units={units}&appid={api_key}&q=\"\n",
    "# query_url = f\"{url}appid={api_key}&units={units}&q=\"\n",
    "\n",
    "cityid = []\n",
    "long = []\n",
    "lat = []\n",
    "temp = []\n",
    "humidity = []\n",
    "clouds = []\n",
    "wind = []\n",
    "maxtemp = []\n",
    "date = []\n",
    "\n",
    "\n",
    "# # Build query URL\n",
    "\n",
    "for index, row in city_df.iterrows():\n",
    "    cityposition=row['City']\n",
    "    cntryposition= row['Country']\n",
    "    response=requests.get(query_url + cityposition +\",\"+ cntryposition).json()\n",
    "    # pprint(response)\n",
    "    \n",
    "    try:\n",
    "        cityid.append(response['id'])\n",
    "        long.append(response['coord']['lon'])\n",
    "        lat.append(response['coord']['lat'])\n",
    "        temp.append(response['main']['temp'])\n",
    "        humidity.append(response['main']['humidity'])\n",
    "        clouds.append(response['clouds']['all'])\n",
    "        wind.append(response['wind']['speed'])\n",
    "        maxtemp.append(response['main']['temp_max'])\n",
    "        date.append(response['dt'])\n",
    "        print(f\"The ID of the city is: {cityid}\")\n",
    "        print(f\"The latitude information received is: {lat}\")\n",
    "        print(f\"The longitude information received is: {long}\")\n",
    "        print(f\"The temperature information received is: {temp}\")\n",
    "        print(f\"The humidity information received is: {humidity}\")\n",
    "        print(f\"The cloud information received is: {clouds}\")\n",
    "        print(f\"The wind speed information received is: {wind}\")\n",
    "        print(f\"The maximum temperature received is: {maxtemp}\")\n",
    "        print(f\"The date received is: {date}\")\n",
    "        print(f\"                                                \")\n",
    "    \n",
    "    except:\n",
    "\n",
    "        print(f\"The city can't be found\")\n",
    "        pass\n",
    "    \n",
    "    \n",
    "# url = \"http://api.openweathermap.org/data/2.5/weather?\"\n",
    "# units = \"imperial\"\n",
    "\n",
    "# # # Build partial query URL\n",
    "# query_url = f\"{url}appid={api_key}&units={units}&q=\"\n",
    "\n",
    "#     country=city.country_code\n",
    "#     country.append(country)\n",
    "# print(citi)\n",
    "# print(country)\n",
    "# cities = [\"Paris\", \"London\", \"Oslo\", \"Beijing\"]\n",
    "\n",
    "# url=\"http://api.openweathermap.org/data/2.5/weather?lat={87.6298}&lon={41.8781}&appid={api_key}\"\n",
    "# # url=\"http://api.openweathermap.org/data/2.5/weather?q={Chicago}&appid={api_key}?\"\n",
    "# citydata = requests.get(url).json()\n",
    "# print(json.dumps(citydata, indent=4, sort_keys=True))\n",
    "\n",
    "# Print the json\n",
    "# print(geo_data)\n",
    "# response=requests.get(f\"{query_url}'lat='{87.6298}'&lon='{41.8781}\").json()\n",
    "# print(response)\n",
    "\n",
    "# # set up lists to hold reponse info\n",
    "# citi = []\n",
    "# cityid = []\n",
    "# long = []\n",
    "# lat = []\n",
    "# temp = []\n",
    "# humidity = []\n",
    "# clouds = []\n",
    "# wind = []\n",
    "# country = []\n",
    "\n",
    "# for index, row in city_df.iterrows():\n",
    "#     latitude=row['lat']\n",
    "#     longitude=row['long']\n",
    "#     response=requests.get(f\"{query_url}'lat='{latitude}'&lon='{longitude}\").json()\n",
    "#     print(response)\n",
    "#     citi.append(response['name'])\n",
    "#     cityid.append(response['sys']['id'])\n",
    "#     long.append(response['coord']['lon'])\n",
    "#     lat.append(response['coord']['lat'])\n",
    "#     temp.append(response['main']['temp'])\n",
    "#     humidity.append(response['main']['humidity'])\n",
    "#     clouds.append(response['clouds']['all'])\n",
    "#     wind.append(response['wind']['speed'])\n",
    "#     country.append(response['sys']['country'])\n",
    "\n",
    "# Loop through the list of cities and perform a request for data on each\n",
    "# api.openweathermap.org/data/2.5/find?q=London&units=imperial\n",
    "# for city in cities:\n",
    "    \n",
    "#     response = requests.get(query_url + city).json()\n",
    "#     citi.append(response['name'])\n",
    "#     cityid.append(response['sys']['id'])\n",
    "#     long.append(response['coord']['lon'])\n",
    "#     lat.append(response['coord']['lat'])\n",
    "#     temp.append(response['main']['temp'])\n",
    "#     humidity.append(response['main']['humidity'])\n",
    "#     clouds.append(response['clouds']['all'])\n",
    "#     wind.append(response['wind']['speed'])\n",
    "#     country.append(response['sys']['country'])\n",
    "    \n",
    "# print(f\"The ID of the city is: {cityid}\")\n",
    "# print(f\"The city information received is: {citi}\")\n",
    "# print(f\"The country information received is: {country}\")\n",
    "# print(f\"The latitude information received is: {lat}\")\n",
    "# print(f\"The longitude information received is: {long}\")\n",
    "# print(f\"The temperature information received is: {temp}\")\n",
    "# print(f\"The humidity information received is: {humidity}\")\n",
    "# print(f\"The cloud information received is: {clouds}\")\n",
    "# print(f\"The wind speed information received is: {wind}\")\n",
    "\n",
    "\n",
    "\n",
    "# # Save config information\n",
    "# url = \"http://api.openweathermap.org/data/2.5/weather?\"\n",
    "# city = \"Chicago\"\n",
    "\n",
    "# # Build query URL\n",
    "# query_url = url + \"appid=\" + api_key + \"&q=\" + city\n",
    "\n",
    "# # Get weather data\n",
    "# weather_response = requests.get(query_url)\n",
    "# weather_json = weather_response.json()\n",
    "\n",
    "# # Get the temperature from the response\n",
    "# print(f\"The weather API responded with: {weather_json}.\")\n",
    "# pprint(weather_json)"
   ]
  },
  {
   "cell_type": "markdown",
   "metadata": {},
   "source": [
    "### Perform API Calls\n",
    "* Perform a weather check on each city using a series of successive API calls.\n",
    "* Include a print log of each city as it'sbeing processed (with the city number and city name).\n"
   ]
  },
  {
   "cell_type": "code",
   "execution_count": null,
   "metadata": {
    "scrolled": true
   },
   "outputs": [],
   "source": []
  },
  {
   "cell_type": "markdown",
   "metadata": {},
   "source": [
    "### Convert Raw Data to DataFrame\n",
    "* Export the city data into a .csv.\n",
    "* Display the DataFrame"
   ]
  },
  {
   "cell_type": "code",
   "execution_count": null,
   "metadata": {},
   "outputs": [],
   "source": []
  },
  {
   "cell_type": "code",
   "execution_count": null,
   "metadata": {},
   "outputs": [],
   "source": []
  },
  {
   "cell_type": "markdown",
   "metadata": {},
   "source": [
    "## Inspect the data and remove the cities where the humidity > 100%.\n",
    "----\n",
    "Skip this step if there are no cities that have humidity > 100%. "
   ]
  },
  {
   "cell_type": "code",
   "execution_count": null,
   "metadata": {},
   "outputs": [],
   "source": []
  },
  {
   "cell_type": "code",
   "execution_count": null,
   "metadata": {},
   "outputs": [],
   "source": [
    "#  Get the indices of cities that have humidity over 100%.\n"
   ]
  },
  {
   "cell_type": "code",
   "execution_count": null,
   "metadata": {},
   "outputs": [],
   "source": [
    "# Make a new DataFrame equal to the city data to drop all humidity outliers by index.\n",
    "# Passing \"inplace=False\" will make a copy of the city_data DataFrame, which we call \"clean_city_data\".\n"
   ]
  },
  {
   "cell_type": "code",
   "execution_count": null,
   "metadata": {},
   "outputs": [],
   "source": [
    "\n"
   ]
  },
  {
   "cell_type": "markdown",
   "metadata": {},
   "source": [
    "## Plotting the Data\n",
    "* Use proper labeling of the plots using plot titles (including date of analysis) and axes labels.\n",
    "* Save the plotted figures as .pngs."
   ]
  },
  {
   "cell_type": "markdown",
   "metadata": {},
   "source": [
    "## Latitude vs. Temperature Plot"
   ]
  },
  {
   "cell_type": "code",
   "execution_count": null,
   "metadata": {
    "scrolled": true
   },
   "outputs": [],
   "source": []
  },
  {
   "cell_type": "markdown",
   "metadata": {},
   "source": [
    "## Latitude vs. Humidity Plot"
   ]
  },
  {
   "cell_type": "code",
   "execution_count": null,
   "metadata": {},
   "outputs": [],
   "source": []
  },
  {
   "cell_type": "markdown",
   "metadata": {},
   "source": [
    "## Latitude vs. Cloudiness Plot"
   ]
  },
  {
   "cell_type": "code",
   "execution_count": null,
   "metadata": {},
   "outputs": [],
   "source": []
  },
  {
   "cell_type": "markdown",
   "metadata": {},
   "source": [
    "## Latitude vs. Wind Speed Plot"
   ]
  },
  {
   "cell_type": "code",
   "execution_count": null,
   "metadata": {},
   "outputs": [],
   "source": []
  },
  {
   "cell_type": "markdown",
   "metadata": {},
   "source": [
    "## Linear Regression"
   ]
  },
  {
   "cell_type": "code",
   "execution_count": null,
   "metadata": {},
   "outputs": [],
   "source": []
  },
  {
   "cell_type": "markdown",
   "metadata": {},
   "source": [
    "####  Northern Hemisphere - Max Temp vs. Latitude Linear Regression"
   ]
  },
  {
   "cell_type": "code",
   "execution_count": null,
   "metadata": {},
   "outputs": [],
   "source": []
  },
  {
   "cell_type": "markdown",
   "metadata": {},
   "source": [
    "####  Southern Hemisphere - Max Temp vs. Latitude Linear Regression"
   ]
  },
  {
   "cell_type": "code",
   "execution_count": null,
   "metadata": {},
   "outputs": [],
   "source": []
  },
  {
   "cell_type": "markdown",
   "metadata": {},
   "source": [
    "####  Northern Hemisphere - Humidity (%) vs. Latitude Linear Regression"
   ]
  },
  {
   "cell_type": "code",
   "execution_count": null,
   "metadata": {},
   "outputs": [],
   "source": []
  },
  {
   "cell_type": "markdown",
   "metadata": {},
   "source": [
    "####  Southern Hemisphere - Humidity (%) vs. Latitude Linear Regression"
   ]
  },
  {
   "cell_type": "code",
   "execution_count": null,
   "metadata": {},
   "outputs": [],
   "source": []
  },
  {
   "cell_type": "markdown",
   "metadata": {},
   "source": [
    "####  Northern Hemisphere - Cloudiness (%) vs. Latitude Linear Regression"
   ]
  },
  {
   "cell_type": "code",
   "execution_count": null,
   "metadata": {},
   "outputs": [],
   "source": []
  },
  {
   "cell_type": "markdown",
   "metadata": {},
   "source": [
    "####  Southern Hemisphere - Cloudiness (%) vs. Latitude Linear Regression"
   ]
  },
  {
   "cell_type": "code",
   "execution_count": null,
   "metadata": {},
   "outputs": [],
   "source": []
  },
  {
   "cell_type": "markdown",
   "metadata": {},
   "source": [
    "####  Northern Hemisphere - Wind Speed (mph) vs. Latitude Linear Regression"
   ]
  },
  {
   "cell_type": "code",
   "execution_count": null,
   "metadata": {},
   "outputs": [],
   "source": []
  },
  {
   "cell_type": "markdown",
   "metadata": {},
   "source": [
    "####  Southern Hemisphere - Wind Speed (mph) vs. Latitude Linear Regression"
   ]
  },
  {
   "cell_type": "code",
   "execution_count": null,
   "metadata": {},
   "outputs": [],
   "source": []
  },
  {
   "cell_type": "code",
   "execution_count": null,
   "metadata": {},
   "outputs": [],
   "source": []
  }
 ],
 "metadata": {
  "anaconda-cloud": {},
  "kernel_info": {
   "name": "python3"
  },
  "kernelspec": {
   "display_name": "Python 3",
   "language": "python",
   "name": "python3"
  },
  "language_info": {
   "codemirror_mode": {
    "name": "ipython",
    "version": 3
   },
   "file_extension": ".py",
   "mimetype": "text/x-python",
   "name": "python",
   "nbconvert_exporter": "python",
   "pygments_lexer": "ipython3",
   "version": "3.7.6"
  },
  "latex_envs": {
   "LaTeX_envs_menu_present": true,
   "autoclose": false,
   "autocomplete": true,
   "bibliofile": "biblio.bib",
   "cite_by": "apalike",
   "current_citInitial": 1,
   "eqLabelWithNumbers": true,
   "eqNumInitial": 1,
   "hotkeys": {
    "equation": "Ctrl-E",
    "itemize": "Ctrl-I"
   },
   "labels_anchors": false,
   "latex_user_defs": false,
   "report_style_numbering": false,
   "user_envs_cfg": false
  },
  "nteract": {
   "version": "0.12.3"
  }
 },
 "nbformat": 4,
 "nbformat_minor": 2
}
