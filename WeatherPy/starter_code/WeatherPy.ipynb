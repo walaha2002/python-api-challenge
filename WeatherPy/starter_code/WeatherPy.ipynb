{
 "cells": [
  {
   "cell_type": "markdown",
   "metadata": {},
   "source": [
    "# WeatherPy\n",
    "----\n",
    "\n",
    "#### Note\n",
    "* Instructions have been included for each segment. You do not have to follow them exactly, but they are included to help you think through the steps."
   ]
  },
  {
   "cell_type": "code",
   "execution_count": 6,
   "metadata": {
    "scrolled": true
   },
   "outputs": [],
   "source": [
    "import requests\n",
    "import json\n",
    "import matplotlib.pyplot as plt\n",
    "import pandas as pd\n",
    "import citipy\n",
    "import numpy as np\n",
    "from config import api_key\n",
    "from pprint import pprint"
   ]
  },
  {
   "cell_type": "markdown",
   "metadata": {},
   "source": [
    "## Generate Cities List"
   ]
  },
  {
   "cell_type": "code",
   "execution_count": 7,
   "metadata": {},
   "outputs": [
    {
     "data": {
      "text/html": [
       "<div>\n",
       "<style scoped>\n",
       "    .dataframe tbody tr th:only-of-type {\n",
       "        vertical-align: middle;\n",
       "    }\n",
       "\n",
       "    .dataframe tbody tr th {\n",
       "        vertical-align: top;\n",
       "    }\n",
       "\n",
       "    .dataframe thead th {\n",
       "        text-align: right;\n",
       "    }\n",
       "</style>\n",
       "<table border=\"1\" class=\"dataframe\">\n",
       "  <thead>\n",
       "    <tr style=\"text-align: right;\">\n",
       "      <th></th>\n",
       "      <th>long</th>\n",
       "      <th>lat</th>\n",
       "    </tr>\n",
       "  </thead>\n",
       "  <tbody>\n",
       "    <tr>\n",
       "      <th>0</th>\n",
       "      <td>148.633481</td>\n",
       "      <td>18.825412</td>\n",
       "    </tr>\n",
       "    <tr>\n",
       "      <th>1</th>\n",
       "      <td>89.816470</td>\n",
       "      <td>35.632026</td>\n",
       "    </tr>\n",
       "    <tr>\n",
       "      <th>2</th>\n",
       "      <td>80.898267</td>\n",
       "      <td>-29.134619</td>\n",
       "    </tr>\n",
       "    <tr>\n",
       "      <th>3</th>\n",
       "      <td>78.080765</td>\n",
       "      <td>33.288336</td>\n",
       "    </tr>\n",
       "    <tr>\n",
       "      <th>4</th>\n",
       "      <td>106.450067</td>\n",
       "      <td>50.808744</td>\n",
       "    </tr>\n",
       "    <tr>\n",
       "      <th>5</th>\n",
       "      <td>45.844950</td>\n",
       "      <td>-61.208257</td>\n",
       "    </tr>\n",
       "    <tr>\n",
       "      <th>6</th>\n",
       "      <td>104.274328</td>\n",
       "      <td>-55.230864</td>\n",
       "    </tr>\n",
       "    <tr>\n",
       "      <th>7</th>\n",
       "      <td>-157.248676</td>\n",
       "      <td>16.033154</td>\n",
       "    </tr>\n",
       "    <tr>\n",
       "      <th>8</th>\n",
       "      <td>90.226002</td>\n",
       "      <td>-21.067463</td>\n",
       "    </tr>\n",
       "    <tr>\n",
       "      <th>9</th>\n",
       "      <td>165.899405</td>\n",
       "      <td>46.949301</td>\n",
       "    </tr>\n",
       "    <tr>\n",
       "      <th>10</th>\n",
       "      <td>-104.574711</td>\n",
       "      <td>-29.295135</td>\n",
       "    </tr>\n",
       "    <tr>\n",
       "      <th>11</th>\n",
       "      <td>-173.567535</td>\n",
       "      <td>-31.725531</td>\n",
       "    </tr>\n",
       "    <tr>\n",
       "      <th>12</th>\n",
       "      <td>-44.593416</td>\n",
       "      <td>84.850366</td>\n",
       "    </tr>\n",
       "    <tr>\n",
       "      <th>13</th>\n",
       "      <td>-164.516240</td>\n",
       "      <td>10.925114</td>\n",
       "    </tr>\n",
       "    <tr>\n",
       "      <th>14</th>\n",
       "      <td>81.060665</td>\n",
       "      <td>9.173040</td>\n",
       "    </tr>\n",
       "    <tr>\n",
       "      <th>15</th>\n",
       "      <td>-163.169081</td>\n",
       "      <td>-19.283946</td>\n",
       "    </tr>\n",
       "    <tr>\n",
       "      <th>16</th>\n",
       "      <td>93.521936</td>\n",
       "      <td>-3.550849</td>\n",
       "    </tr>\n",
       "    <tr>\n",
       "      <th>17</th>\n",
       "      <td>-14.217939</td>\n",
       "      <td>-21.573723</td>\n",
       "    </tr>\n",
       "    <tr>\n",
       "      <th>18</th>\n",
       "      <td>29.889941</td>\n",
       "      <td>52.483512</td>\n",
       "    </tr>\n",
       "    <tr>\n",
       "      <th>19</th>\n",
       "      <td>142.189934</td>\n",
       "      <td>-84.552854</td>\n",
       "    </tr>\n",
       "  </tbody>\n",
       "</table>\n",
       "</div>"
      ],
      "text/plain": [
       "          long        lat\n",
       "0   148.633481  18.825412\n",
       "1    89.816470  35.632026\n",
       "2    80.898267 -29.134619\n",
       "3    78.080765  33.288336\n",
       "4   106.450067  50.808744\n",
       "5    45.844950 -61.208257\n",
       "6   104.274328 -55.230864\n",
       "7  -157.248676  16.033154\n",
       "8    90.226002 -21.067463\n",
       "9   165.899405  46.949301\n",
       "10 -104.574711 -29.295135\n",
       "11 -173.567535 -31.725531\n",
       "12  -44.593416  84.850366\n",
       "13 -164.516240  10.925114\n",
       "14   81.060665   9.173040\n",
       "15 -163.169081 -19.283946\n",
       "16   93.521936  -3.550849\n",
       "17  -14.217939 -21.573723\n",
       "18   29.889941  52.483512\n",
       "19  142.189934 -84.552854"
      ]
     },
     "execution_count": 7,
     "metadata": {},
     "output_type": "execute_result"
    }
   ],
   "source": [
    "# Get random numbers for latitude and longitude then place in a dataframe\n",
    "\n",
    "city_df=pd.DataFrame({\"long\":(np.random.uniform(-180,180,20)), \"lat\":(np.random.uniform(-90,90,20))})\n",
    "# city_df.head()\n",
    "# city_df.tail()\n",
    "city_df"
   ]
  },
  {
   "cell_type": "code",
   "execution_count": 19,
   "metadata": {},
   "outputs": [
    {
     "name": "stdout",
     "output_type": "stream",
     "text": [
      "{'cod': '404', 'message': 'city not found'}\n",
      "{'cod': '404', 'message': 'city not found'}\n",
      "{'cod': '404', 'message': 'city not found'}\n",
      "{'cod': '404', 'message': 'city not found'}\n",
      "{'cod': '404', 'message': 'city not found'}\n",
      "{'cod': '404', 'message': 'city not found'}\n",
      "{'cod': '404', 'message': 'city not found'}\n",
      "{'cod': '404', 'message': 'city not found'}\n",
      "{'cod': '404', 'message': 'city not found'}\n",
      "{'cod': '404', 'message': 'city not found'}\n",
      "{'cod': '404', 'message': 'city not found'}\n",
      "{'cod': '404', 'message': 'city not found'}\n",
      "{'cod': '404', 'message': 'city not found'}\n",
      "{'cod': '404', 'message': 'city not found'}\n",
      "{'cod': '404', 'message': 'city not found'}\n",
      "{'cod': '404', 'message': 'city not found'}\n",
      "{'cod': '404', 'message': 'city not found'}\n",
      "{'cod': '404', 'message': 'city not found'}\n",
      "{'cod': '404', 'message': 'city not found'}\n",
      "{'cod': '404', 'message': 'city not found'}\n"
     ]
    }
   ],
   "source": [
    "# URL format to get weather data using longitude and latitude\n",
    "# # api.openweathermap.org/data/2.5/weather?lat={lat}&lon={lon}&appid={API key}\n",
    "\n",
    "url = \"http://api.openweathermap.org/data/2.5/weather?\"\n",
    "units = \"imperial\"\n",
    "\n",
    "# Build partial query URL\n",
    "query_url = f\"{url}appid={api_key}&units={units}&q=\"\n",
    "# cities = [\"Paris\", \"London\", \"Oslo\", \"Beijing\"]\n",
    "\n",
    "# set up lists to hold reponse info\n",
    "citi = []\n",
    "cityid = []\n",
    "long = []\n",
    "lat = []\n",
    "temp = []\n",
    "humidity = []\n",
    "clouds = []\n",
    "wind = []\n",
    "country = []\n",
    "\n",
    "for index, row in city_df.iterrows():\n",
    "    latitude=row['lat']\n",
    "    longitude=row['long']\n",
    "    response=requests.get(f\"{query_url}'lat='{latitude}'&lon='{longitude}\").json()\n",
    "    print(response)\n",
    "#     # citi.append(response['name'])\n",
    "#     cityid.append(response['sys']['id'])\n",
    "#     long.append(response['coord']['lon'])\n",
    "#     lat.append(response['coord']['lat'])\n",
    "#     temp.append(response['main']['temp'])\n",
    "#     humidity.append(response['main']['humidity'])\n",
    "#     clouds.append(response['clouds']['all'])\n",
    "#     wind.append(response['wind']['speed'])\n",
    "#     country.append(response['sys']['country'])\n",
    "\n",
    "# Loop through the list of cities and perform a request for data on each\n",
    "# api.openweathermap.org/data/2.5/find?q=London&units=imperial\n",
    "# for city in cities:\n",
    "    \n",
    "#     response = requests.get(query_url + city).json()\n",
    "#     citi.append(response['name'])\n",
    "#     cityid.append(response['sys']['id'])\n",
    "#     long.append(response['coord']['lon'])\n",
    "#     lat.append(response['coord']['lat'])\n",
    "#     temp.append(response['main']['temp'])\n",
    "#     humidity.append(response['main']['humidity'])\n",
    "#     clouds.append(response['clouds']['all'])\n",
    "#     wind.append(response['wind']['speed'])\n",
    "#     country.append(response['sys']['country'])\n",
    "    \n",
    "# print(f\"The ID of the city is: {cityid}\")\n",
    "# print(f\"The city information received is: {citi}\")\n",
    "# print(f\"The country information received is: {country}\")\n",
    "# print(f\"The latitude information received is: {lat}\")\n",
    "# print(f\"The longitude information received is: {long}\")\n",
    "# print(f\"The temperature information received is: {temp}\")\n",
    "# print(f\"The humidity information received is: {humidity}\")\n",
    "# print(f\"The cloud information received is: {clouds}\")\n",
    "# print(f\"The wind speed information received is: {wind}\")\n",
    "\n",
    "\n",
    "# # Save config information\n",
    "# url = \"http://api.openweathermap.org/data/2.5/weather?\"\n",
    "# city = \"Chicago\"\n",
    "\n",
    "# # Build query URL\n",
    "# query_url = url + \"appid=\" + api_key + \"&q=\" + city\n",
    "\n",
    "# # Get weather data\n",
    "# weather_response = requests.get(query_url)\n",
    "# weather_json = weather_response.json()\n",
    "\n",
    "# # Get the temperature from the response\n",
    "# print(f\"The weather API responded with: {weather_json}.\")\n",
    "# pprint(weather_json)"
   ]
  },
  {
   "cell_type": "markdown",
   "metadata": {},
   "source": [
    "### Perform API Calls\n",
    "* Perform a weather check on each city using a series of successive API calls.\n",
    "* Include a print log of each city as it'sbeing processed (with the city number and city name).\n"
   ]
  },
  {
   "cell_type": "code",
   "execution_count": null,
   "metadata": {
    "scrolled": true
   },
   "outputs": [],
   "source": []
  },
  {
   "cell_type": "markdown",
   "metadata": {},
   "source": [
    "### Convert Raw Data to DataFrame\n",
    "* Export the city data into a .csv.\n",
    "* Display the DataFrame"
   ]
  },
  {
   "cell_type": "code",
   "execution_count": null,
   "metadata": {},
   "outputs": [],
   "source": []
  },
  {
   "cell_type": "code",
   "execution_count": null,
   "metadata": {},
   "outputs": [],
   "source": []
  },
  {
   "cell_type": "markdown",
   "metadata": {},
   "source": [
    "## Inspect the data and remove the cities where the humidity > 100%.\n",
    "----\n",
    "Skip this step if there are no cities that have humidity > 100%. "
   ]
  },
  {
   "cell_type": "code",
   "execution_count": null,
   "metadata": {},
   "outputs": [],
   "source": []
  },
  {
   "cell_type": "code",
   "execution_count": 4,
   "metadata": {},
   "outputs": [],
   "source": [
    "#  Get the indices of cities that have humidity over 100%.\n"
   ]
  },
  {
   "cell_type": "code",
   "execution_count": 5,
   "metadata": {},
   "outputs": [],
   "source": [
    "# Make a new DataFrame equal to the city data to drop all humidity outliers by index.\n",
    "# Passing \"inplace=False\" will make a copy of the city_data DataFrame, which we call \"clean_city_data\".\n"
   ]
  },
  {
   "cell_type": "code",
   "execution_count": null,
   "metadata": {},
   "outputs": [],
   "source": [
    "\n"
   ]
  },
  {
   "cell_type": "markdown",
   "metadata": {},
   "source": [
    "## Plotting the Data\n",
    "* Use proper labeling of the plots using plot titles (including date of analysis) and axes labels.\n",
    "* Save the plotted figures as .pngs."
   ]
  },
  {
   "cell_type": "markdown",
   "metadata": {},
   "source": [
    "## Latitude vs. Temperature Plot"
   ]
  },
  {
   "cell_type": "code",
   "execution_count": null,
   "metadata": {
    "scrolled": true
   },
   "outputs": [],
   "source": []
  },
  {
   "cell_type": "markdown",
   "metadata": {},
   "source": [
    "## Latitude vs. Humidity Plot"
   ]
  },
  {
   "cell_type": "code",
   "execution_count": null,
   "metadata": {},
   "outputs": [],
   "source": []
  },
  {
   "cell_type": "markdown",
   "metadata": {},
   "source": [
    "## Latitude vs. Cloudiness Plot"
   ]
  },
  {
   "cell_type": "code",
   "execution_count": null,
   "metadata": {},
   "outputs": [],
   "source": []
  },
  {
   "cell_type": "markdown",
   "metadata": {},
   "source": [
    "## Latitude vs. Wind Speed Plot"
   ]
  },
  {
   "cell_type": "code",
   "execution_count": null,
   "metadata": {},
   "outputs": [],
   "source": []
  },
  {
   "cell_type": "markdown",
   "metadata": {},
   "source": [
    "## Linear Regression"
   ]
  },
  {
   "cell_type": "code",
   "execution_count": null,
   "metadata": {},
   "outputs": [],
   "source": []
  },
  {
   "cell_type": "markdown",
   "metadata": {},
   "source": [
    "####  Northern Hemisphere - Max Temp vs. Latitude Linear Regression"
   ]
  },
  {
   "cell_type": "code",
   "execution_count": null,
   "metadata": {},
   "outputs": [],
   "source": []
  },
  {
   "cell_type": "markdown",
   "metadata": {},
   "source": [
    "####  Southern Hemisphere - Max Temp vs. Latitude Linear Regression"
   ]
  },
  {
   "cell_type": "code",
   "execution_count": null,
   "metadata": {},
   "outputs": [],
   "source": []
  },
  {
   "cell_type": "markdown",
   "metadata": {},
   "source": [
    "####  Northern Hemisphere - Humidity (%) vs. Latitude Linear Regression"
   ]
  },
  {
   "cell_type": "code",
   "execution_count": null,
   "metadata": {},
   "outputs": [],
   "source": []
  },
  {
   "cell_type": "markdown",
   "metadata": {},
   "source": [
    "####  Southern Hemisphere - Humidity (%) vs. Latitude Linear Regression"
   ]
  },
  {
   "cell_type": "code",
   "execution_count": null,
   "metadata": {},
   "outputs": [],
   "source": []
  },
  {
   "cell_type": "markdown",
   "metadata": {},
   "source": [
    "####  Northern Hemisphere - Cloudiness (%) vs. Latitude Linear Regression"
   ]
  },
  {
   "cell_type": "code",
   "execution_count": null,
   "metadata": {},
   "outputs": [],
   "source": []
  },
  {
   "cell_type": "markdown",
   "metadata": {},
   "source": [
    "####  Southern Hemisphere - Cloudiness (%) vs. Latitude Linear Regression"
   ]
  },
  {
   "cell_type": "code",
   "execution_count": null,
   "metadata": {},
   "outputs": [],
   "source": []
  },
  {
   "cell_type": "markdown",
   "metadata": {},
   "source": [
    "####  Northern Hemisphere - Wind Speed (mph) vs. Latitude Linear Regression"
   ]
  },
  {
   "cell_type": "code",
   "execution_count": null,
   "metadata": {},
   "outputs": [],
   "source": []
  },
  {
   "cell_type": "markdown",
   "metadata": {},
   "source": [
    "####  Southern Hemisphere - Wind Speed (mph) vs. Latitude Linear Regression"
   ]
  },
  {
   "cell_type": "code",
   "execution_count": null,
   "metadata": {},
   "outputs": [],
   "source": []
  },
  {
   "cell_type": "code",
   "execution_count": null,
   "metadata": {},
   "outputs": [],
   "source": []
  }
 ],
 "metadata": {
  "anaconda-cloud": {},
  "kernel_info": {
   "name": "python3"
  },
  "kernelspec": {
   "display_name": "Python 3",
   "language": "python",
   "name": "python3"
  },
  "language_info": {
   "codemirror_mode": {
    "name": "ipython",
    "version": 3
   },
   "file_extension": ".py",
   "mimetype": "text/x-python",
   "name": "python",
   "nbconvert_exporter": "python",
   "pygments_lexer": "ipython3",
   "version": "3.7.6"
  },
  "latex_envs": {
   "LaTeX_envs_menu_present": true,
   "autoclose": false,
   "autocomplete": true,
   "bibliofile": "biblio.bib",
   "cite_by": "apalike",
   "current_citInitial": 1,
   "eqLabelWithNumbers": true,
   "eqNumInitial": 1,
   "hotkeys": {
    "equation": "Ctrl-E",
    "itemize": "Ctrl-I"
   },
   "labels_anchors": false,
   "latex_user_defs": false,
   "report_style_numbering": false,
   "user_envs_cfg": false
  },
  "nteract": {
   "version": "0.12.3"
  }
 },
 "nbformat": 4,
 "nbformat_minor": 2
}
